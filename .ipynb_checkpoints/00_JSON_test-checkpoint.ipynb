{
 "cells": [
  {
   "cell_type": "markdown",
   "id": "f9f1597e-070a-42b4-9953-b26c378aee99",
   "metadata": {},
   "source": [
    "# JSON Placeholder\n",
    "test用 API"
   ]
  },
  {
   "cell_type": "markdown",
   "id": "abde5cee-0755-40d4-96cd-b41be5d4406e",
   "metadata": {},
   "source": [
    "### API を使用するにあたって request を送るための　library"
   ]
  },
  {
   "cell_type": "code",
   "execution_count": 1,
   "id": "f1eaacea-e329-4408-bae3-a98d6f5becb0",
   "metadata": {},
   "outputs": [
    {
     "name": "stdout",
     "output_type": "stream",
     "text": [
      "Requirement already satisfied: requests in ./venv/lib/python3.9/site-packages (2.26.0)\n",
      "Requirement already satisfied: charset-normalizer~=2.0.0 in ./venv/lib/python3.9/site-packages (from requests) (2.0.3)\n",
      "Requirement already satisfied: certifi>=2017.4.17 in ./venv/lib/python3.9/site-packages (from requests) (2021.5.30)\n",
      "Requirement already satisfied: urllib3<1.27,>=1.21.1 in ./venv/lib/python3.9/site-packages (from requests) (1.26.6)\n",
      "Requirement already satisfied: idna<4,>=2.5 in ./venv/lib/python3.9/site-packages (from requests) (3.2)\n",
      "Note: you may need to restart the kernel to use updated packages.\n"
     ]
    }
   ],
   "source": [
    "pip install requests"
   ]
  },
  {
   "cell_type": "code",
   "execution_count": 2,
   "id": "2c90d92b-8b9a-4c18-9410-e26cbd79069e",
   "metadata": {},
   "outputs": [],
   "source": [
    "import requests"
   ]
  },
  {
   "cell_type": "code",
   "execution_count": 5,
   "id": "95a77eeb-7932-4812-b6b5-82849f06f4ac",
   "metadata": {},
   "outputs": [],
   "source": [
    "# ENDPOINT\n",
    "url = 'https://jsonplaceholder.typicode.com/todos/1'"
   ]
  },
  {
   "cell_type": "code",
   "execution_count": 7,
   "id": "32ed2c34-f51b-4a5a-9184-3df95add1de6",
   "metadata": {},
   "outputs": [],
   "source": [
    "# GET を使用する\n",
    "res = requests.get(url)"
   ]
  },
  {
   "cell_type": "code",
   "execution_count": 9,
   "id": "7701a2fe-f18e-4082-bbc6-c9d93f80b8e8",
   "metadata": {},
   "outputs": [
    {
     "data": {
      "text/plain": [
       "200"
      ]
     },
     "execution_count": 9,
     "metadata": {},
     "output_type": "execute_result"
    }
   ],
   "source": [
    "res.status_code"
   ]
  },
  {
   "cell_type": "markdown",
   "id": "16e33f74-aee8-4cd0-aad2-c2e5551723e1",
   "metadata": {},
   "source": [
    "### status code\n",
    "- status code で返ってくる数字によって色々な意味がある\n",
    "- 上手くいかない(error)が出た場合は、その数字で検索する"
   ]
  },
  {
   "cell_type": "code",
   "execution_count": 10,
   "id": "0e3bcfba-ad1d-45ed-9378-5c316ad64480",
   "metadata": {},
   "outputs": [
    {
     "data": {
      "text/plain": [
       "{'userId': 1, 'id': 1, 'title': 'delectus aut autem', 'completed': False}"
      ]
     },
     "execution_count": 10,
     "metadata": {},
     "output_type": "execute_result"
    }
   ],
   "source": [
    "res.json()"
   ]
  },
  {
   "cell_type": "code",
   "execution_count": 12,
   "id": "6f0ffe13-8321-4f99-8b27-8848a39c4b51",
   "metadata": {},
   "outputs": [
    {
     "data": {
      "text/plain": [
       "{'userId': 1, 'id': 1, 'title': 'delectus aut autem', 'completed': False}"
      ]
     },
     "execution_count": 12,
     "metadata": {},
     "output_type": "execute_result"
    }
   ],
   "source": [
    "datum = res.json()\n",
    "datum"
   ]
  },
  {
   "cell_type": "code",
   "execution_count": 13,
   "id": "c70e7eff-7e80-4e32-9765-477b329288b1",
   "metadata": {},
   "outputs": [
    {
     "data": {
      "text/plain": [
       "1"
      ]
     },
     "execution_count": 13,
     "metadata": {},
     "output_type": "execute_result"
    }
   ],
   "source": [
    "datum['id']"
   ]
  },
  {
   "cell_type": "code",
   "execution_count": 14,
   "id": "94d7307a-1083-4f28-a953-c6f5247d794c",
   "metadata": {},
   "outputs": [
    {
     "data": {
      "text/plain": [
       "'delectus aut autem'"
      ]
     },
     "execution_count": 14,
     "metadata": {},
     "output_type": "execute_result"
    }
   ],
   "source": [
    "datum['title']"
   ]
  },
  {
   "cell_type": "markdown",
   "id": "09a5cc2a-ae6a-46a5-a251-1da918b6692e",
   "metadata": {},
   "source": [
    "### 特定の条件"
   ]
  },
  {
   "cell_type": "code",
   "execution_count": 16,
   "id": "36d9c012-e47b-408c-9756-bcd46f25d84c",
   "metadata": {},
   "outputs": [],
   "source": [
    "# ENDPOINT\n",
    "url = 'https://jsonplaceholder.typicode.com/todos/1'\n",
    "body = {\n",
    "    'id':1\n",
    "}\n",
    "\n",
    "res = requests.get(url, body)"
   ]
  },
  {
   "cell_type": "code",
   "execution_count": 17,
   "id": "9b8b35b9-1cb7-4916-86ca-694cee6cc989",
   "metadata": {},
   "outputs": [
    {
     "data": {
      "text/plain": [
       "200"
      ]
     },
     "execution_count": 17,
     "metadata": {},
     "output_type": "execute_result"
    }
   ],
   "source": [
    "res.status_code"
   ]
  },
  {
   "cell_type": "code",
   "execution_count": 18,
   "id": "3a57b720-24c3-46cc-b67f-7646ec753f4d",
   "metadata": {},
   "outputs": [
    {
     "data": {
      "text/plain": [
       "{'userId': 1, 'id': 1, 'title': 'delectus aut autem', 'completed': False}"
      ]
     },
     "execution_count": 18,
     "metadata": {},
     "output_type": "execute_result"
    }
   ],
   "source": [
    "res.json()"
   ]
  },
  {
   "cell_type": "code",
   "execution_count": null,
   "id": "82ddeba5-3915-4264-bf54-545995fe4826",
   "metadata": {},
   "outputs": [],
   "source": []
  }
 ],
 "metadata": {
  "kernelspec": {
   "display_name": "Python 3 (ipykernel)",
   "language": "python",
   "name": "python3"
  },
  "language_info": {
   "codemirror_mode": {
    "name": "ipython",
    "version": 3
   },
   "file_extension": ".py",
   "mimetype": "text/x-python",
   "name": "python",
   "nbconvert_exporter": "python",
   "pygments_lexer": "ipython3",
   "version": "3.9.6"
  }
 },
 "nbformat": 4,
 "nbformat_minor": 5
}
