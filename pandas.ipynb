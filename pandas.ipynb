{
 "cells": [
  {
   "cell_type": "markdown",
   "id": "33766cb6-babb-48de-896c-083386385f91",
   "metadata": {},
   "source": [
    "# Pandas 基礎"
   ]
  },
  {
   "cell_type": "markdown",
   "id": "93172254-e72a-44d0-b577-940682a735d7",
   "metadata": {},
   "source": [
    "## Series の作成"
   ]
  },
  {
   "cell_type": "code",
   "execution_count": 128,
   "id": "c7756252-1fa6-415a-ac55-b4dfe3e7a866",
   "metadata": {},
   "outputs": [
    {
     "name": "stdout",
     "output_type": "stream",
     "text": [
      "0    7\n",
      "1    8\n",
      "2    9\n",
      "dtype: int64\n"
     ]
    }
   ],
   "source": [
    "a_list = [7, 8, 9]\n",
    "s1 = pd.Series(a_list)\n",
    "print(s1)"
   ]
  },
  {
   "cell_type": "code",
   "execution_count": 3,
   "id": "1ac9982f-2495-48da-a9bd-52cd3c2cc940",
   "metadata": {},
   "outputs": [
    {
     "name": "stdout",
     "output_type": "stream",
     "text": [
      "0    7.0\n",
      "1    8.0\n",
      "2    9.0\n",
      "dtype: float64\n"
     ]
    }
   ],
   "source": [
    "a_list = [7, 8, 9]\n",
    "s1 = pd.Series(a_list, dtype=float)\n",
    "print(s1)"
   ]
  },
  {
   "cell_type": "markdown",
   "id": "8fcdbd43-eecf-449a-bdc9-da443d80e3e4",
   "metadata": {},
   "source": [
    "### 文字列をdata型にする\n",
    "- pandas は文字列を object として扱う"
   ]
  },
  {
   "cell_type": "code",
   "execution_count": 7,
   "id": "07791cae-df90-4a45-b6d1-02ae41fe794e",
   "metadata": {},
   "outputs": [
    {
     "name": "stdout",
     "output_type": "stream",
     "text": [
      "0     apple\n",
      "1    banana\n",
      "2    orange\n",
      "dtype: object\n"
     ]
    }
   ],
   "source": [
    "a_arr = ['apple', 'banana', 'orange']\n",
    "s2 = pd.Series(a_arr)\n",
    "print(s2)"
   ]
  },
  {
   "cell_type": "markdown",
   "id": "e992b3e4-99a5-437e-b52b-ed137c9cf08a",
   "metadata": {},
   "source": [
    "### index を文字列にする\n",
    "- index の長さは　dataの長さ(len:数)同じでないといけない"
   ]
  },
  {
   "cell_type": "code",
   "execution_count": 9,
   "id": "162a1724-ff12-4a93-b211-d07fe8f823be",
   "metadata": {},
   "outputs": [
    {
     "name": "stdout",
     "output_type": "stream",
     "text": [
      "apple     7\n",
      "banana    8\n",
      "orange    9\n",
      "dtype: int64\n"
     ]
    }
   ],
   "source": [
    "var = [7, 8, 9]\n",
    "name = ['apple', 'banana', 'orange']\n",
    "s4 = pd.Series(var, index=name)\n",
    "print(s4)"
   ]
  },
  {
   "cell_type": "markdown",
   "id": "b785e0f6-3fa2-4415-ae2a-f43923bbaffc",
   "metadata": {},
   "source": [
    "### dictionary 型\n",
    "key : value が書き込まれている形\n",
    "\n",
    "key = index / value = 要素"
   ]
  },
  {
   "cell_type": "code",
   "execution_count": 10,
   "id": "ebaf4ead-044d-488e-8ce6-d8b48fcf7ea2",
   "metadata": {},
   "outputs": [],
   "source": [
    "a_dic = {'apple': 7, 'banana':8, 'orange':9}"
   ]
  },
  {
   "cell_type": "code",
   "execution_count": 11,
   "id": "ceb2d182-7183-4035-809e-182a7490ab94",
   "metadata": {},
   "outputs": [
    {
     "data": {
      "text/plain": [
       "7"
      ]
     },
     "execution_count": 11,
     "metadata": {},
     "output_type": "execute_result"
    }
   ],
   "source": [
    "a_dic['apple']"
   ]
  },
  {
   "cell_type": "code",
   "execution_count": 12,
   "id": "b80dc742-ac0e-498c-8049-9aeedcd0e91f",
   "metadata": {},
   "outputs": [
    {
     "name": "stdout",
     "output_type": "stream",
     "text": [
      "apple     7\n",
      "banana    8\n",
      "orange    9\n",
      "dtype: int64\n"
     ]
    }
   ],
   "source": [
    "a_dic = {'apple': 7, 'banana':8, 'orange':9}\n",
    "s5 = pd.Series(a_dic)\n",
    "print(s5)"
   ]
  },
  {
   "cell_type": "markdown",
   "id": "6b42cfa5-0cb2-422a-857a-b8de2f52351d",
   "metadata": {},
   "source": [
    "### 欠損値\n",
    "- dictionary 型の長さに対して index が長い場合は、欠損値が入る\n",
    "- NaN (not a number)"
   ]
  },
  {
   "cell_type": "code",
   "execution_count": 14,
   "id": "5d60fcd9-9de4-43a6-99d4-6d4a376d5c29",
   "metadata": {},
   "outputs": [
    {
     "name": "stdout",
     "output_type": "stream",
     "text": [
      "apple     7.0\n",
      "banana    8.0\n",
      "orange    9.0\n",
      "lemon     NaN\n",
      "dtype: float64\n"
     ]
    }
   ],
   "source": [
    "a_dic2 = {'apple': 7, 'banana':8, 'orange':9}\n",
    "name = ['apple', 'banana', 'orange', 'lemon']\n",
    "s6 = pd.Series(a_dic2, index=name)\n",
    "print(s6)"
   ]
  },
  {
   "cell_type": "markdown",
   "id": "51b49610-4cf3-4679-a706-178b710120c8",
   "metadata": {},
   "source": [
    "## Series の参照"
   ]
  },
  {
   "cell_type": "code",
   "execution_count": 15,
   "id": "578f35c6-977c-445c-9b5b-4ad9c071840e",
   "metadata": {},
   "outputs": [
    {
     "data": {
      "text/plain": [
       "apple     7\n",
       "banana    8\n",
       "orange    9\n",
       "dtype: int64"
      ]
     },
     "execution_count": 15,
     "metadata": {},
     "output_type": "execute_result"
    }
   ],
   "source": [
    "s5"
   ]
  },
  {
   "cell_type": "code",
   "execution_count": 16,
   "id": "f69d041c-8bd9-4c4f-9ba5-5a2a6b4e9c1a",
   "metadata": {},
   "outputs": [
    {
     "name": "stdout",
     "output_type": "stream",
     "text": [
      "apple     7\n",
      "banana    8\n",
      "orange    9\n",
      "dtype: int64\n"
     ]
    }
   ],
   "source": [
    "print(s5)"
   ]
  },
  {
   "cell_type": "code",
   "execution_count": 17,
   "id": "8874fbda-5df6-48b6-9d43-f838e9dea11d",
   "metadata": {},
   "outputs": [
    {
     "data": {
      "text/plain": [
       "7"
      ]
     },
     "execution_count": 17,
     "metadata": {},
     "output_type": "execute_result"
    }
   ],
   "source": [
    "s5['apple']"
   ]
  },
  {
   "cell_type": "code",
   "execution_count": 18,
   "id": "be09de12-d12f-4481-83fb-c80b32f6260f",
   "metadata": {},
   "outputs": [
    {
     "data": {
      "text/plain": [
       "7"
      ]
     },
     "execution_count": 18,
     "metadata": {},
     "output_type": "execute_result"
    }
   ],
   "source": [
    "s5[0]"
   ]
  },
  {
   "cell_type": "code",
   "execution_count": 20,
   "id": "7817f920-38bd-4e0a-bcf4-ae556bf766e4",
   "metadata": {},
   "outputs": [
    {
     "data": {
      "text/plain": [
       "apple     7\n",
       "banana    8\n",
       "orange    9\n",
       "dtype: int64"
      ]
     },
     "execution_count": 20,
     "metadata": {},
     "output_type": "execute_result"
    }
   ],
   "source": [
    "# スライス -> apple ~ orange\n",
    "s5['apple': 'orange']"
   ]
  },
  {
   "cell_type": "code",
   "execution_count": 21,
   "id": "e764e70a-384f-423f-927c-d75956a46524",
   "metadata": {},
   "outputs": [
    {
     "name": "stdout",
     "output_type": "stream",
     "text": [
      "apple     100\n",
      "banana      8\n",
      "orange      9\n",
      "dtype: int64\n"
     ]
    }
   ],
   "source": [
    "s5['apple'] = 100\n",
    "print(s5)"
   ]
  },
  {
   "cell_type": "code",
   "execution_count": 22,
   "id": "4b07752c-564e-48f4-a250-e42a2d19d00c",
   "metadata": {},
   "outputs": [
    {
     "name": "stdout",
     "output_type": "stream",
     "text": [
      "apple     100\n",
      "banana    200\n",
      "orange    200\n",
      "dtype: int64\n"
     ]
    }
   ],
   "source": [
    "s5[1:3] = 200\n",
    "print(s5)"
   ]
  },
  {
   "cell_type": "code",
   "execution_count": 23,
   "id": "052ad9db-b172-46c0-abe9-dc95dbe9fbbd",
   "metadata": {},
   "outputs": [],
   "source": [
    "a_list = [7, 8, 9]\n",
    "b_list = [10, 11]\n",
    "s7 = pd.Series(a_list)\n",
    "s8 = pd.Series(b_list)"
   ]
  },
  {
   "cell_type": "code",
   "execution_count": 30,
   "id": "dc76568d-1f32-4a6f-9251-33a8789b0a53",
   "metadata": {},
   "outputs": [
    {
     "data": {
      "text/plain": [
       "0    7\n",
       "1    8\n",
       "2    9\n",
       "dtype: int64"
      ]
     },
     "execution_count": 30,
     "metadata": {},
     "output_type": "execute_result"
    }
   ],
   "source": [
    "s7"
   ]
  },
  {
   "cell_type": "code",
   "execution_count": 31,
   "id": "70abfaa4-a9e1-41b5-9f1d-560bf28f1677",
   "metadata": {},
   "outputs": [
    {
     "data": {
      "text/plain": [
       "0    10\n",
       "1    11\n",
       "dtype: int64"
      ]
     },
     "execution_count": 31,
     "metadata": {},
     "output_type": "execute_result"
    }
   ],
   "source": [
    "s8"
   ]
  },
  {
   "cell_type": "code",
   "execution_count": 33,
   "id": "c98188cd-9150-4eb5-8f58-9db179c2bc32",
   "metadata": {},
   "outputs": [
    {
     "data": {
      "text/plain": [
       "0     7\n",
       "1     8\n",
       "2     9\n",
       "3    10\n",
       "4    11\n",
       "dtype: int64"
      ]
     },
     "execution_count": 33,
     "metadata": {},
     "output_type": "execute_result"
    }
   ],
   "source": [
    "s7.append(s8, ignore_index=True)"
   ]
  },
  {
   "cell_type": "markdown",
   "id": "7b957d77-d5ef-480b-ac8a-e8b4a08cbeac",
   "metadata": {},
   "source": [
    "## Series の要素削除"
   ]
  },
  {
   "cell_type": "markdown",
   "id": "a0b6044a-2fc9-4856-bc34-42a3e8f97edb",
   "metadata": {},
   "source": [
    "### drop\n",
    "drop を用いた削除の場合は、元の要素は削除されない"
   ]
  },
  {
   "cell_type": "code",
   "execution_count": 38,
   "id": "e2be9e20-740d-4abd-82c5-d38d2b27498f",
   "metadata": {},
   "outputs": [
    {
     "data": {
      "text/plain": [
       "apple     100\n",
       "banana    200\n",
       "orange    200\n",
       "dtype: int64"
      ]
     },
     "execution_count": 38,
     "metadata": {},
     "output_type": "execute_result"
    }
   ],
   "source": [
    "s5"
   ]
  },
  {
   "cell_type": "code",
   "execution_count": 39,
   "id": "d78c0460-b9fa-4a77-a20a-4b0a12a24b2d",
   "metadata": {},
   "outputs": [
    {
     "data": {
      "text/plain": [
       "apple     100\n",
       "orange    200\n",
       "dtype: int64"
      ]
     },
     "execution_count": 39,
     "metadata": {},
     "output_type": "execute_result"
    }
   ],
   "source": [
    "s5.drop(index='banana')"
   ]
  },
  {
   "cell_type": "code",
   "execution_count": 40,
   "id": "5710d11e-d4ef-4f07-a633-9604325b536b",
   "metadata": {},
   "outputs": [
    {
     "data": {
      "text/plain": [
       "apple     100\n",
       "banana    200\n",
       "orange    200\n",
       "dtype: int64"
      ]
     },
     "execution_count": 40,
     "metadata": {},
     "output_type": "execute_result"
    }
   ],
   "source": [
    "s5"
   ]
  },
  {
   "cell_type": "markdown",
   "id": "5e197e3c-c989-4052-bbf5-3ab10cf126a7",
   "metadata": {},
   "source": [
    "### drop 関数は元の Series を削除しないことが default　になっている\n",
    "- 引数 inplace=True にする"
   ]
  },
  {
   "cell_type": "code",
   "execution_count": 41,
   "id": "fe1da55c-6f53-4f15-9794-58f0dd4abd9f",
   "metadata": {},
   "outputs": [],
   "source": [
    "s5.drop(index='banana', inplace=True)"
   ]
  },
  {
   "cell_type": "code",
   "execution_count": 42,
   "id": "b39f1934-3b3a-459f-921a-51c2f7dae2fc",
   "metadata": {},
   "outputs": [
    {
     "data": {
      "text/plain": [
       "apple     100\n",
       "orange    200\n",
       "dtype: int64"
      ]
     },
     "execution_count": 42,
     "metadata": {},
     "output_type": "execute_result"
    }
   ],
   "source": [
    "s5"
   ]
  },
  {
   "cell_type": "markdown",
   "id": "3f265259-e32d-49fe-aa46-76c5db73aaa3",
   "metadata": {},
   "source": [
    "# DataFrame"
   ]
  },
  {
   "cell_type": "markdown",
   "id": "f8be72a0-16c4-4804-889b-a0347f235fe6",
   "metadata": {},
   "source": [
    "### DataFrame 概要\n",
    "- index を持つ２つの次元の data 構造のことで、　data を扱う際に頻繁に用いられる\n",
    "- 2次元というのは,行(row:横)と列(columns:縦)で表現されるモノ(Excelなど…)\n",
    "- index(行名)、　columns(列名)を指定して data を取得する"
   ]
  },
  {
   "cell_type": "code",
   "execution_count": 43,
   "id": "77ae1a39-fdec-4496-aae2-006bea8acda3",
   "metadata": {},
   "outputs": [],
   "source": [
    "# 2次元配列\n",
    "val = [[1, 2, 3], [4, 5, 6]]"
   ]
  },
  {
   "cell_type": "code",
   "execution_count": 45,
   "id": "9a3d8453-2d70-4a93-b470-ad5932215189",
   "metadata": {},
   "outputs": [
    {
     "name": "stdout",
     "output_type": "stream",
     "text": [
      "   0  1  2\n",
      "0  1  2  3\n",
      "1  4  5  6\n"
     ]
    }
   ],
   "source": [
    "df = pd.DataFrame(val)\n",
    "print(df)"
   ]
  },
  {
   "cell_type": "code",
   "execution_count": 46,
   "id": "1fee09a4-416b-4811-acd2-1fd01bb3cd7a",
   "metadata": {},
   "outputs": [
    {
     "name": "stdout",
     "output_type": "stream",
     "text": [
      "     0    1    2\n",
      "0  1.0  2.0  3.0\n",
      "1  4.0  5.0  6.0\n"
     ]
    }
   ],
   "source": [
    "# 引数 dtype で data 内容を変更できる\n",
    "df = pd.DataFrame(val, dtype=float)\n",
    "print(df)"
   ]
  },
  {
   "cell_type": "code",
   "execution_count": 48,
   "id": "2aa4d747-7f24-4680-afd0-f3ece61ef44f",
   "metadata": {},
   "outputs": [
    {
     "data": {
      "text/plain": [
       "0    float64\n",
       "1    float64\n",
       "2    float64\n",
       "dtype: object"
      ]
     },
     "execution_count": 48,
     "metadata": {},
     "output_type": "execute_result"
    }
   ],
   "source": [
    "# 各列の対する data型の確認\n",
    "df.dtypes"
   ]
  },
  {
   "cell_type": "markdown",
   "id": "587d37a8-aa09-45a7-979a-b9b827ed8124",
   "metadata": {},
   "source": [
    "### 行名と列名を指定"
   ]
  },
  {
   "cell_type": "code",
   "execution_count": 51,
   "id": "c846d2eb-e75b-4ac8-98d3-fa92dc19b5c1",
   "metadata": {},
   "outputs": [
    {
     "name": "stdout",
     "output_type": "stream",
     "text": [
      "    c0  c1  c2\n",
      "r0   1   2   3\n",
      "r1   4   5   6\n"
     ]
    }
   ],
   "source": [
    "# 2次元配列\n",
    "val = [[1, 2, 3], [4, 5, 6]]\n",
    "df = pd.DataFrame(val, index=['r0', 'r1'], columns=['c0', 'c1', 'c2'])\n",
    "print(df)"
   ]
  },
  {
   "cell_type": "markdown",
   "id": "489dcd7c-b5f3-42bd-9913-213b9c12ceb5",
   "metadata": {},
   "source": [
    "## Series を使用した DataFrame"
   ]
  },
  {
   "cell_type": "code",
   "execution_count": 58,
   "id": "e9e644f9-1d78-46cd-92b7-056a80c803e9",
   "metadata": {},
   "outputs": [],
   "source": [
    "sr_age = pd.Series([23, 31, 49, 60])\n",
    "sr_gender = pd.Series(['M', 'F', 'F', 'M'])\n",
    "sr_height = pd.Series([175, 160, 156, 180])\n",
    "sr_weight = pd.Series([65, 40, 48, 85])"
   ]
  },
  {
   "cell_type": "code",
   "execution_count": 59,
   "id": "a5b0288c-3cba-4516-b766-332d1c2d8fd1",
   "metadata": {},
   "outputs": [
    {
     "name": "stdout",
     "output_type": "stream",
     "text": [
      "   age gender  height  weight\n",
      "0   23      M     175      65\n",
      "1   31      F     160      40\n",
      "2   49      F     156      48\n",
      "3   60      M     180      85\n"
     ]
    }
   ],
   "source": [
    "df_info = pd.DataFrame({\n",
    "    'age': sr_age,\n",
    "    'gender': sr_gender,\n",
    "    'height': sr_height,\n",
    "    'weight': sr_weight\n",
    "})\n",
    "print(df_info)"
   ]
  },
  {
   "cell_type": "markdown",
   "id": "9d74645a-fe40-41da-9fc6-087482b334a9",
   "metadata": {},
   "source": [
    "### 欠損値"
   ]
  },
  {
   "cell_type": "code",
   "execution_count": 62,
   "id": "8947d0ed-72cc-4817-ad7d-e41c0561d2ec",
   "metadata": {},
   "outputs": [],
   "source": [
    "sr_age = pd.Series([23, 31, 49, 60], index=['sato', 'yamada', 'suzuki', 'tanaka'])\n",
    "sr_gender = pd.Series(['M', 'F', 'F'], index=['sato', 'yamada', 'suzuki'])\n",
    "sr_height = pd.Series([160, 156, 180], index=['yamada', 'suzuki', 'tanaka'])\n",
    "sr_weight = pd.Series([65, 85], index=['sato', 'tanaka'])"
   ]
  },
  {
   "cell_type": "code",
   "execution_count": 64,
   "id": "2a587945-35e4-437f-9a91-3b79f6b2bc91",
   "metadata": {},
   "outputs": [
    {
     "name": "stdout",
     "output_type": "stream",
     "text": [
      "        age gender  height  weight\n",
      "sato     23      M     NaN    65.0\n",
      "suzuki   49      F   156.0     NaN\n",
      "tanaka   60    NaN   180.0    85.0\n",
      "yamada   31      F   160.0     NaN\n"
     ]
    }
   ],
   "source": [
    "df_info = pd.DataFrame({\n",
    "    'age': sr_age,\n",
    "    'gender': sr_gender,\n",
    "    'height': sr_height,\n",
    "    'weight': sr_weight\n",
    "})\n",
    "print(df_info)"
   ]
  },
  {
   "cell_type": "markdown",
   "id": "efcd4c30-3ad7-4776-b40d-e665fc2c1960",
   "metadata": {},
   "source": [
    "## DataFrame の参照"
   ]
  },
  {
   "cell_type": "code",
   "execution_count": 65,
   "id": "e9f45b50-ebb0-4a6c-a1d3-c6301cbd2308",
   "metadata": {},
   "outputs": [
    {
     "name": "stdout",
     "output_type": "stream",
     "text": [
      "        age gender  height  weight\n",
      "sato     23      M     NaN    65.0\n",
      "suzuki   49      F   156.0     NaN\n",
      "tanaka   60    NaN   180.0    85.0\n",
      "yamada   31      F   160.0     NaN\n"
     ]
    }
   ],
   "source": [
    "sr_age = pd.Series([23, 31, 49, 60], index=['sato', 'yamada', 'suzuki', 'tanaka'])\n",
    "sr_gender = pd.Series(['M', 'F', 'F'], index=['sato', 'yamada', 'suzuki'])\n",
    "sr_height = pd.Series([160, 156, 180], index=['yamada', 'suzuki', 'tanaka'])\n",
    "sr_weight = pd.Series([65, 85], index=['sato', 'tanaka'])\n",
    "\n",
    "df_info = pd.DataFrame({\n",
    "    'age': sr_age,\n",
    "    'gender': sr_gender,\n",
    "    'height': sr_height,\n",
    "    'weight': sr_weight\n",
    "})\n",
    "print(df_info)"
   ]
  },
  {
   "cell_type": "code",
   "execution_count": 66,
   "id": "52564f31-277c-46cb-89d7-b0861a228d6e",
   "metadata": {},
   "outputs": [
    {
     "data": {
      "text/html": [
       "<div>\n",
       "<style scoped>\n",
       "    .dataframe tbody tr th:only-of-type {\n",
       "        vertical-align: middle;\n",
       "    }\n",
       "\n",
       "    .dataframe tbody tr th {\n",
       "        vertical-align: top;\n",
       "    }\n",
       "\n",
       "    .dataframe thead th {\n",
       "        text-align: right;\n",
       "    }\n",
       "</style>\n",
       "<table border=\"1\" class=\"dataframe\">\n",
       "  <thead>\n",
       "    <tr style=\"text-align: right;\">\n",
       "      <th></th>\n",
       "      <th>age</th>\n",
       "      <th>gender</th>\n",
       "      <th>height</th>\n",
       "      <th>weight</th>\n",
       "    </tr>\n",
       "  </thead>\n",
       "  <tbody>\n",
       "    <tr>\n",
       "      <th>sato</th>\n",
       "      <td>23</td>\n",
       "      <td>M</td>\n",
       "      <td>NaN</td>\n",
       "      <td>65.0</td>\n",
       "    </tr>\n",
       "    <tr>\n",
       "      <th>suzuki</th>\n",
       "      <td>49</td>\n",
       "      <td>F</td>\n",
       "      <td>156.0</td>\n",
       "      <td>NaN</td>\n",
       "    </tr>\n",
       "    <tr>\n",
       "      <th>tanaka</th>\n",
       "      <td>60</td>\n",
       "      <td>NaN</td>\n",
       "      <td>180.0</td>\n",
       "      <td>85.0</td>\n",
       "    </tr>\n",
       "    <tr>\n",
       "      <th>yamada</th>\n",
       "      <td>31</td>\n",
       "      <td>F</td>\n",
       "      <td>160.0</td>\n",
       "      <td>NaN</td>\n",
       "    </tr>\n",
       "  </tbody>\n",
       "</table>\n",
       "</div>"
      ],
      "text/plain": [
       "        age gender  height  weight\n",
       "sato     23      M     NaN    65.0\n",
       "suzuki   49      F   156.0     NaN\n",
       "tanaka   60    NaN   180.0    85.0\n",
       "yamada   31      F   160.0     NaN"
      ]
     },
     "execution_count": 66,
     "metadata": {},
     "output_type": "execute_result"
    }
   ],
   "source": [
    "df_info"
   ]
  },
  {
   "cell_type": "markdown",
   "id": "1ff30f30-1eea-4f3d-9fe6-20468cb2e711",
   "metadata": {},
   "source": [
    "### tuple型 の　行数と列数"
   ]
  },
  {
   "cell_type": "code",
   "execution_count": 68,
   "id": "fa8dee4f-8e33-464e-a932-a92b8733426f",
   "metadata": {},
   "outputs": [
    {
     "data": {
      "text/plain": [
       "(4, 4)"
      ]
     },
     "execution_count": 68,
     "metadata": {},
     "output_type": "execute_result"
    }
   ],
   "source": [
    "# dataの形状確認\n",
    "df_info.shape"
   ]
  },
  {
   "cell_type": "code",
   "execution_count": 69,
   "id": "9bb2a16e-8198-4ad8-84ad-25027ff1bea4",
   "metadata": {},
   "outputs": [
    {
     "name": "stdout",
     "output_type": "stream",
     "text": [
      "4\n",
      "4\n"
     ]
    }
   ],
   "source": [
    "print(df_info.shape[0]) # 行数\n",
    "print(df_info.shape[1]) # 列数"
   ]
  },
  {
   "cell_type": "code",
   "execution_count": 70,
   "id": "3363a13a-d78f-42ef-b429-e77db87bd824",
   "metadata": {},
   "outputs": [
    {
     "data": {
      "text/plain": [
       "16"
      ]
     },
     "execution_count": 70,
     "metadata": {},
     "output_type": "execute_result"
    }
   ],
   "source": [
    "# 全要素数　4x4\n",
    "df_info.size"
   ]
  },
  {
   "cell_type": "code",
   "execution_count": 71,
   "id": "2a2efe98-9120-4cd0-bd4a-6bc8dc4df97a",
   "metadata": {},
   "outputs": [
    {
     "data": {
      "text/html": [
       "<div>\n",
       "<style scoped>\n",
       "    .dataframe tbody tr th:only-of-type {\n",
       "        vertical-align: middle;\n",
       "    }\n",
       "\n",
       "    .dataframe tbody tr th {\n",
       "        vertical-align: top;\n",
       "    }\n",
       "\n",
       "    .dataframe thead th {\n",
       "        text-align: right;\n",
       "    }\n",
       "</style>\n",
       "<table border=\"1\" class=\"dataframe\">\n",
       "  <thead>\n",
       "    <tr style=\"text-align: right;\">\n",
       "      <th></th>\n",
       "      <th>age</th>\n",
       "      <th>gender</th>\n",
       "      <th>height</th>\n",
       "      <th>weight</th>\n",
       "    </tr>\n",
       "  </thead>\n",
       "  <tbody>\n",
       "    <tr>\n",
       "      <th>sato</th>\n",
       "      <td>23</td>\n",
       "      <td>M</td>\n",
       "      <td>NaN</td>\n",
       "      <td>65.0</td>\n",
       "    </tr>\n",
       "    <tr>\n",
       "      <th>suzuki</th>\n",
       "      <td>49</td>\n",
       "      <td>F</td>\n",
       "      <td>156.0</td>\n",
       "      <td>NaN</td>\n",
       "    </tr>\n",
       "    <tr>\n",
       "      <th>tanaka</th>\n",
       "      <td>60</td>\n",
       "      <td>NaN</td>\n",
       "      <td>180.0</td>\n",
       "      <td>85.0</td>\n",
       "    </tr>\n",
       "    <tr>\n",
       "      <th>yamada</th>\n",
       "      <td>31</td>\n",
       "      <td>F</td>\n",
       "      <td>160.0</td>\n",
       "      <td>NaN</td>\n",
       "    </tr>\n",
       "  </tbody>\n",
       "</table>\n",
       "</div>"
      ],
      "text/plain": [
       "        age gender  height  weight\n",
       "sato     23      M     NaN    65.0\n",
       "suzuki   49      F   156.0     NaN\n",
       "tanaka   60    NaN   180.0    85.0\n",
       "yamada   31      F   160.0     NaN"
      ]
     },
     "execution_count": 71,
     "metadata": {},
     "output_type": "execute_result"
    }
   ],
   "source": [
    "df_info"
   ]
  },
  {
   "cell_type": "markdown",
   "id": "b119deb6-3b05-477b-aa6e-599efa3a6a25",
   "metadata": {},
   "source": [
    "### 列指定で要素を選択"
   ]
  },
  {
   "cell_type": "code",
   "execution_count": 72,
   "id": "7b0f3e69-1208-4006-a6a2-1e63583099bf",
   "metadata": {},
   "outputs": [
    {
     "data": {
      "text/plain": [
       "sato      23\n",
       "suzuki    49\n",
       "tanaka    60\n",
       "yamada    31\n",
       "Name: age, dtype: int64"
      ]
     },
     "execution_count": 72,
     "metadata": {},
     "output_type": "execute_result"
    }
   ],
   "source": [
    "df_info['age']"
   ]
  },
  {
   "cell_type": "code",
   "execution_count": 73,
   "id": "34d72000-8978-4d2a-999b-e5c8aaa0da21",
   "metadata": {},
   "outputs": [
    {
     "data": {
      "text/html": [
       "<div>\n",
       "<style scoped>\n",
       "    .dataframe tbody tr th:only-of-type {\n",
       "        vertical-align: middle;\n",
       "    }\n",
       "\n",
       "    .dataframe tbody tr th {\n",
       "        vertical-align: top;\n",
       "    }\n",
       "\n",
       "    .dataframe thead th {\n",
       "        text-align: right;\n",
       "    }\n",
       "</style>\n",
       "<table border=\"1\" class=\"dataframe\">\n",
       "  <thead>\n",
       "    <tr style=\"text-align: right;\">\n",
       "      <th></th>\n",
       "      <th>age</th>\n",
       "      <th>gender</th>\n",
       "    </tr>\n",
       "  </thead>\n",
       "  <tbody>\n",
       "    <tr>\n",
       "      <th>sato</th>\n",
       "      <td>23</td>\n",
       "      <td>M</td>\n",
       "    </tr>\n",
       "    <tr>\n",
       "      <th>suzuki</th>\n",
       "      <td>49</td>\n",
       "      <td>F</td>\n",
       "    </tr>\n",
       "    <tr>\n",
       "      <th>tanaka</th>\n",
       "      <td>60</td>\n",
       "      <td>NaN</td>\n",
       "    </tr>\n",
       "    <tr>\n",
       "      <th>yamada</th>\n",
       "      <td>31</td>\n",
       "      <td>F</td>\n",
       "    </tr>\n",
       "  </tbody>\n",
       "</table>\n",
       "</div>"
      ],
      "text/plain": [
       "        age gender\n",
       "sato     23      M\n",
       "suzuki   49      F\n",
       "tanaka   60    NaN\n",
       "yamada   31      F"
      ]
     },
     "execution_count": 73,
     "metadata": {},
     "output_type": "execute_result"
    }
   ],
   "source": [
    "df_info[['age', 'gender']]"
   ]
  },
  {
   "cell_type": "markdown",
   "id": "e6fd4566-a122-427d-a34d-bb851ae253dd",
   "metadata": {
    "tags": []
   },
   "source": [
    "### loc アトリビュートを使用した data 取得\n",
    "- 特定の行を参照したい時に使用すると便利"
   ]
  },
  {
   "cell_type": "code",
   "execution_count": 74,
   "id": "0f4d9788-11c7-4122-a2d8-4addf87e7d31",
   "metadata": {},
   "outputs": [
    {
     "data": {
      "text/html": [
       "<div>\n",
       "<style scoped>\n",
       "    .dataframe tbody tr th:only-of-type {\n",
       "        vertical-align: middle;\n",
       "    }\n",
       "\n",
       "    .dataframe tbody tr th {\n",
       "        vertical-align: top;\n",
       "    }\n",
       "\n",
       "    .dataframe thead th {\n",
       "        text-align: right;\n",
       "    }\n",
       "</style>\n",
       "<table border=\"1\" class=\"dataframe\">\n",
       "  <thead>\n",
       "    <tr style=\"text-align: right;\">\n",
       "      <th></th>\n",
       "      <th>age</th>\n",
       "      <th>gender</th>\n",
       "      <th>height</th>\n",
       "      <th>weight</th>\n",
       "    </tr>\n",
       "  </thead>\n",
       "  <tbody>\n",
       "    <tr>\n",
       "      <th>sato</th>\n",
       "      <td>23</td>\n",
       "      <td>M</td>\n",
       "      <td>NaN</td>\n",
       "      <td>65.0</td>\n",
       "    </tr>\n",
       "    <tr>\n",
       "      <th>suzuki</th>\n",
       "      <td>49</td>\n",
       "      <td>F</td>\n",
       "      <td>156.0</td>\n",
       "      <td>NaN</td>\n",
       "    </tr>\n",
       "    <tr>\n",
       "      <th>tanaka</th>\n",
       "      <td>60</td>\n",
       "      <td>NaN</td>\n",
       "      <td>180.0</td>\n",
       "      <td>85.0</td>\n",
       "    </tr>\n",
       "    <tr>\n",
       "      <th>yamada</th>\n",
       "      <td>31</td>\n",
       "      <td>F</td>\n",
       "      <td>160.0</td>\n",
       "      <td>NaN</td>\n",
       "    </tr>\n",
       "  </tbody>\n",
       "</table>\n",
       "</div>"
      ],
      "text/plain": [
       "        age gender  height  weight\n",
       "sato     23      M     NaN    65.0\n",
       "suzuki   49      F   156.0     NaN\n",
       "tanaka   60    NaN   180.0    85.0\n",
       "yamada   31      F   160.0     NaN"
      ]
     },
     "execution_count": 74,
     "metadata": {},
     "output_type": "execute_result"
    }
   ],
   "source": [
    "df_info"
   ]
  },
  {
   "cell_type": "code",
   "execution_count": 75,
   "id": "e722a3a8-5f09-49cb-a48f-e17132ceab21",
   "metadata": {},
   "outputs": [
    {
     "data": {
      "text/plain": [
       "age          49\n",
       "gender        F\n",
       "height    156.0\n",
       "weight      NaN\n",
       "Name: suzuki, dtype: object"
      ]
     },
     "execution_count": 75,
     "metadata": {},
     "output_type": "execute_result"
    }
   ],
   "source": [
    "df_info.loc['suzuki']"
   ]
  },
  {
   "cell_type": "code",
   "execution_count": 76,
   "id": "b486a624-dc8b-416a-8916-6bd7b72cbfcc",
   "metadata": {},
   "outputs": [
    {
     "data": {
      "text/plain": [
       "156.0"
      ]
     },
     "execution_count": 76,
     "metadata": {},
     "output_type": "execute_result"
    }
   ],
   "source": [
    "df_info.loc['suzuki', 'height']"
   ]
  },
  {
   "cell_type": "markdown",
   "id": "606f51d1-f004-45d0-8264-731ead88f538",
   "metadata": {},
   "source": [
    "#### スライスを使用することで、複数要素も取得できる"
   ]
  },
  {
   "cell_type": "code",
   "execution_count": 77,
   "id": "30fcce54-103b-4cab-8abe-d3e282af0dbc",
   "metadata": {},
   "outputs": [
    {
     "data": {
      "text/plain": [
       "suzuki    156.0\n",
       "tanaka    180.0\n",
       "yamada    160.0\n",
       "Name: height, dtype: float64"
      ]
     },
     "execution_count": 77,
     "metadata": {},
     "output_type": "execute_result"
    }
   ],
   "source": [
    "df_info.loc['suzuki': 'yamada', 'height']"
   ]
  },
  {
   "cell_type": "code",
   "execution_count": 78,
   "id": "fc3b4938-5a3a-4c80-b709-cb62b4b70e85",
   "metadata": {},
   "outputs": [
    {
     "data": {
      "text/plain": [
       "age          49\n",
       "gender        F\n",
       "height    156.0\n",
       "weight      NaN\n",
       "Name: suzuki, dtype: object"
      ]
     },
     "execution_count": 78,
     "metadata": {},
     "output_type": "execute_result"
    }
   ],
   "source": [
    "df_info.loc['suzuki',:]"
   ]
  },
  {
   "cell_type": "markdown",
   "id": "564fed2d-8b7e-4c9a-84ab-59110ce4e624",
   "metadata": {},
   "source": [
    "### iloc アトリビュート\n",
    "- label名で指定するのか、行 or 列で指定するのかの違い\n",
    "- iloc を使用する場合は label名ではなく、**番号指定**になる"
   ]
  },
  {
   "cell_type": "code",
   "execution_count": 79,
   "id": "f2c45264-e413-4aad-b6de-8aadc3517db4",
   "metadata": {},
   "outputs": [
    {
     "data": {
      "text/html": [
       "<div>\n",
       "<style scoped>\n",
       "    .dataframe tbody tr th:only-of-type {\n",
       "        vertical-align: middle;\n",
       "    }\n",
       "\n",
       "    .dataframe tbody tr th {\n",
       "        vertical-align: top;\n",
       "    }\n",
       "\n",
       "    .dataframe thead th {\n",
       "        text-align: right;\n",
       "    }\n",
       "</style>\n",
       "<table border=\"1\" class=\"dataframe\">\n",
       "  <thead>\n",
       "    <tr style=\"text-align: right;\">\n",
       "      <th></th>\n",
       "      <th>age</th>\n",
       "      <th>gender</th>\n",
       "      <th>height</th>\n",
       "      <th>weight</th>\n",
       "    </tr>\n",
       "  </thead>\n",
       "  <tbody>\n",
       "    <tr>\n",
       "      <th>sato</th>\n",
       "      <td>23</td>\n",
       "      <td>M</td>\n",
       "      <td>NaN</td>\n",
       "      <td>65.0</td>\n",
       "    </tr>\n",
       "    <tr>\n",
       "      <th>suzuki</th>\n",
       "      <td>49</td>\n",
       "      <td>F</td>\n",
       "      <td>156.0</td>\n",
       "      <td>NaN</td>\n",
       "    </tr>\n",
       "    <tr>\n",
       "      <th>tanaka</th>\n",
       "      <td>60</td>\n",
       "      <td>NaN</td>\n",
       "      <td>180.0</td>\n",
       "      <td>85.0</td>\n",
       "    </tr>\n",
       "    <tr>\n",
       "      <th>yamada</th>\n",
       "      <td>31</td>\n",
       "      <td>F</td>\n",
       "      <td>160.0</td>\n",
       "      <td>NaN</td>\n",
       "    </tr>\n",
       "  </tbody>\n",
       "</table>\n",
       "</div>"
      ],
      "text/plain": [
       "        age gender  height  weight\n",
       "sato     23      M     NaN    65.0\n",
       "suzuki   49      F   156.0     NaN\n",
       "tanaka   60    NaN   180.0    85.0\n",
       "yamada   31      F   160.0     NaN"
      ]
     },
     "execution_count": 79,
     "metadata": {},
     "output_type": "execute_result"
    }
   ],
   "source": [
    "df_info"
   ]
  },
  {
   "cell_type": "code",
   "execution_count": 80,
   "id": "1cac0759-afb7-4e67-9047-1d9e4840085e",
   "metadata": {},
   "outputs": [
    {
     "data": {
      "text/plain": [
       "156.0"
      ]
     },
     "execution_count": 80,
     "metadata": {},
     "output_type": "execute_result"
    }
   ],
   "source": [
    "df_info.iloc[1, 2]"
   ]
  },
  {
   "cell_type": "code",
   "execution_count": 81,
   "id": "c76dd02a-44fe-478b-8dc1-ebf994d5bbff",
   "metadata": {},
   "outputs": [
    {
     "data": {
      "text/plain": [
       "suzuki    156.0\n",
       "tanaka    180.0\n",
       "yamada    160.0\n",
       "Name: height, dtype: float64"
      ]
     },
     "execution_count": 81,
     "metadata": {},
     "output_type": "execute_result"
    }
   ],
   "source": [
    "# スライスを使用した抽出\n",
    "df_info.iloc[1:4, 2]"
   ]
  },
  {
   "cell_type": "code",
   "execution_count": 83,
   "id": "5c52f34b-7c09-4506-ba5c-b65f884ad554",
   "metadata": {},
   "outputs": [
    {
     "data": {
      "text/plain": [
       "age          49\n",
       "gender        F\n",
       "height    156.0\n",
       "weight      NaN\n",
       "Name: suzuki, dtype: object"
      ]
     },
     "execution_count": 83,
     "metadata": {},
     "output_type": "execute_result"
    }
   ],
   "source": [
    "# 列 data を取得\n",
    "df_info.iloc[1, :]"
   ]
  },
  {
   "cell_type": "markdown",
   "id": "3eca4714-480d-4e70-8a8d-1f0972ecf8e8",
   "metadata": {},
   "source": [
    "### 条件抽出"
   ]
  },
  {
   "cell_type": "code",
   "execution_count": 84,
   "id": "0d5747fc-b210-47ef-a2ed-23565ef6d6c5",
   "metadata": {},
   "outputs": [
    {
     "data": {
      "text/html": [
       "<div>\n",
       "<style scoped>\n",
       "    .dataframe tbody tr th:only-of-type {\n",
       "        vertical-align: middle;\n",
       "    }\n",
       "\n",
       "    .dataframe tbody tr th {\n",
       "        vertical-align: top;\n",
       "    }\n",
       "\n",
       "    .dataframe thead th {\n",
       "        text-align: right;\n",
       "    }\n",
       "</style>\n",
       "<table border=\"1\" class=\"dataframe\">\n",
       "  <thead>\n",
       "    <tr style=\"text-align: right;\">\n",
       "      <th></th>\n",
       "      <th>age</th>\n",
       "      <th>gender</th>\n",
       "      <th>height</th>\n",
       "      <th>weight</th>\n",
       "    </tr>\n",
       "  </thead>\n",
       "  <tbody>\n",
       "    <tr>\n",
       "      <th>sato</th>\n",
       "      <td>23</td>\n",
       "      <td>M</td>\n",
       "      <td>NaN</td>\n",
       "      <td>65.0</td>\n",
       "    </tr>\n",
       "    <tr>\n",
       "      <th>suzuki</th>\n",
       "      <td>49</td>\n",
       "      <td>F</td>\n",
       "      <td>156.0</td>\n",
       "      <td>NaN</td>\n",
       "    </tr>\n",
       "    <tr>\n",
       "      <th>tanaka</th>\n",
       "      <td>60</td>\n",
       "      <td>NaN</td>\n",
       "      <td>180.0</td>\n",
       "      <td>85.0</td>\n",
       "    </tr>\n",
       "    <tr>\n",
       "      <th>yamada</th>\n",
       "      <td>31</td>\n",
       "      <td>F</td>\n",
       "      <td>160.0</td>\n",
       "      <td>NaN</td>\n",
       "    </tr>\n",
       "  </tbody>\n",
       "</table>\n",
       "</div>"
      ],
      "text/plain": [
       "        age gender  height  weight\n",
       "sato     23      M     NaN    65.0\n",
       "suzuki   49      F   156.0     NaN\n",
       "tanaka   60    NaN   180.0    85.0\n",
       "yamada   31      F   160.0     NaN"
      ]
     },
     "execution_count": 84,
     "metadata": {},
     "output_type": "execute_result"
    }
   ],
   "source": [
    "df_info"
   ]
  },
  {
   "cell_type": "code",
   "execution_count": 85,
   "id": "a8109d29-eade-478a-8ce0-630704e56b49",
   "metadata": {},
   "outputs": [
    {
     "data": {
      "text/html": [
       "<div>\n",
       "<style scoped>\n",
       "    .dataframe tbody tr th:only-of-type {\n",
       "        vertical-align: middle;\n",
       "    }\n",
       "\n",
       "    .dataframe tbody tr th {\n",
       "        vertical-align: top;\n",
       "    }\n",
       "\n",
       "    .dataframe thead th {\n",
       "        text-align: right;\n",
       "    }\n",
       "</style>\n",
       "<table border=\"1\" class=\"dataframe\">\n",
       "  <thead>\n",
       "    <tr style=\"text-align: right;\">\n",
       "      <th></th>\n",
       "      <th>age</th>\n",
       "      <th>gender</th>\n",
       "      <th>height</th>\n",
       "      <th>weight</th>\n",
       "    </tr>\n",
       "  </thead>\n",
       "  <tbody>\n",
       "    <tr>\n",
       "      <th>tanaka</th>\n",
       "      <td>60</td>\n",
       "      <td>NaN</td>\n",
       "      <td>180.0</td>\n",
       "      <td>85.0</td>\n",
       "    </tr>\n",
       "  </tbody>\n",
       "</table>\n",
       "</div>"
      ],
      "text/plain": [
       "        age gender  height  weight\n",
       "tanaka   60    NaN   180.0    85.0"
      ]
     },
     "execution_count": 85,
     "metadata": {},
     "output_type": "execute_result"
    }
   ],
   "source": [
    "# 身長が　１７０以上\n",
    "df_info[df_info['height'] > 170]"
   ]
  },
  {
   "cell_type": "code",
   "execution_count": 86,
   "id": "d2fefd34-90f2-4d50-bbb1-97aae1a048d4",
   "metadata": {},
   "outputs": [
    {
     "data": {
      "text/html": [
       "<div>\n",
       "<style scoped>\n",
       "    .dataframe tbody tr th:only-of-type {\n",
       "        vertical-align: middle;\n",
       "    }\n",
       "\n",
       "    .dataframe tbody tr th {\n",
       "        vertical-align: top;\n",
       "    }\n",
       "\n",
       "    .dataframe thead th {\n",
       "        text-align: right;\n",
       "    }\n",
       "</style>\n",
       "<table border=\"1\" class=\"dataframe\">\n",
       "  <thead>\n",
       "    <tr style=\"text-align: right;\">\n",
       "      <th></th>\n",
       "      <th>age</th>\n",
       "      <th>gender</th>\n",
       "      <th>height</th>\n",
       "      <th>weight</th>\n",
       "    </tr>\n",
       "  </thead>\n",
       "  <tbody>\n",
       "    <tr>\n",
       "      <th>sato</th>\n",
       "      <td>23</td>\n",
       "      <td>M</td>\n",
       "      <td>NaN</td>\n",
       "      <td>65.0</td>\n",
       "    </tr>\n",
       "  </tbody>\n",
       "</table>\n",
       "</div>"
      ],
      "text/plain": [
       "      age gender  height  weight\n",
       "sato   23      M     NaN    65.0"
      ]
     },
     "execution_count": 86,
     "metadata": {},
     "output_type": "execute_result"
    }
   ],
   "source": [
    "# gender が男性を抽出\n",
    "df_info[df_info['gender'] == 'M']"
   ]
  },
  {
   "cell_type": "markdown",
   "id": "9a9aebca-afe8-42c7-b302-910a3141c672",
   "metadata": {},
   "source": [
    "### head と tail method\n",
    "- data を読み込んでザッと表示させたい時\n",
    "- head() : 上から行数を指定\n",
    "- tail() : 下から行数を指定"
   ]
  },
  {
   "cell_type": "code",
   "execution_count": 87,
   "id": "cd571108-c988-4e43-b2c3-02d619aa426d",
   "metadata": {},
   "outputs": [
    {
     "data": {
      "text/html": [
       "<div>\n",
       "<style scoped>\n",
       "    .dataframe tbody tr th:only-of-type {\n",
       "        vertical-align: middle;\n",
       "    }\n",
       "\n",
       "    .dataframe tbody tr th {\n",
       "        vertical-align: top;\n",
       "    }\n",
       "\n",
       "    .dataframe thead th {\n",
       "        text-align: right;\n",
       "    }\n",
       "</style>\n",
       "<table border=\"1\" class=\"dataframe\">\n",
       "  <thead>\n",
       "    <tr style=\"text-align: right;\">\n",
       "      <th></th>\n",
       "      <th>age</th>\n",
       "      <th>gender</th>\n",
       "      <th>height</th>\n",
       "      <th>weight</th>\n",
       "    </tr>\n",
       "  </thead>\n",
       "  <tbody>\n",
       "    <tr>\n",
       "      <th>sato</th>\n",
       "      <td>23</td>\n",
       "      <td>M</td>\n",
       "      <td>NaN</td>\n",
       "      <td>65.0</td>\n",
       "    </tr>\n",
       "    <tr>\n",
       "      <th>suzuki</th>\n",
       "      <td>49</td>\n",
       "      <td>F</td>\n",
       "      <td>156.0</td>\n",
       "      <td>NaN</td>\n",
       "    </tr>\n",
       "  </tbody>\n",
       "</table>\n",
       "</div>"
      ],
      "text/plain": [
       "        age gender  height  weight\n",
       "sato     23      M     NaN    65.0\n",
       "suzuki   49      F   156.0     NaN"
      ]
     },
     "execution_count": 87,
     "metadata": {},
     "output_type": "execute_result"
    }
   ],
   "source": [
    "df_info.head(2)"
   ]
  },
  {
   "cell_type": "code",
   "execution_count": 89,
   "id": "baac65d1-dd3f-4a97-8b63-9ad2054d1de3",
   "metadata": {},
   "outputs": [
    {
     "data": {
      "text/html": [
       "<div>\n",
       "<style scoped>\n",
       "    .dataframe tbody tr th:only-of-type {\n",
       "        vertical-align: middle;\n",
       "    }\n",
       "\n",
       "    .dataframe tbody tr th {\n",
       "        vertical-align: top;\n",
       "    }\n",
       "\n",
       "    .dataframe thead th {\n",
       "        text-align: right;\n",
       "    }\n",
       "</style>\n",
       "<table border=\"1\" class=\"dataframe\">\n",
       "  <thead>\n",
       "    <tr style=\"text-align: right;\">\n",
       "      <th></th>\n",
       "      <th>age</th>\n",
       "      <th>gender</th>\n",
       "      <th>height</th>\n",
       "      <th>weight</th>\n",
       "    </tr>\n",
       "  </thead>\n",
       "  <tbody>\n",
       "    <tr>\n",
       "      <th>sato</th>\n",
       "      <td>23</td>\n",
       "      <td>M</td>\n",
       "      <td>NaN</td>\n",
       "      <td>65.0</td>\n",
       "    </tr>\n",
       "    <tr>\n",
       "      <th>suzuki</th>\n",
       "      <td>49</td>\n",
       "      <td>F</td>\n",
       "      <td>156.0</td>\n",
       "      <td>NaN</td>\n",
       "    </tr>\n",
       "    <tr>\n",
       "      <th>tanaka</th>\n",
       "      <td>60</td>\n",
       "      <td>NaN</td>\n",
       "      <td>180.0</td>\n",
       "      <td>85.0</td>\n",
       "    </tr>\n",
       "    <tr>\n",
       "      <th>yamada</th>\n",
       "      <td>31</td>\n",
       "      <td>F</td>\n",
       "      <td>160.0</td>\n",
       "      <td>NaN</td>\n",
       "    </tr>\n",
       "  </tbody>\n",
       "</table>\n",
       "</div>"
      ],
      "text/plain": [
       "        age gender  height  weight\n",
       "sato     23      M     NaN    65.0\n",
       "suzuki   49      F   156.0     NaN\n",
       "tanaka   60    NaN   180.0    85.0\n",
       "yamada   31      F   160.0     NaN"
      ]
     },
     "execution_count": 89,
     "metadata": {},
     "output_type": "execute_result"
    }
   ],
   "source": [
    "df_info.head()"
   ]
  },
  {
   "cell_type": "code",
   "execution_count": 90,
   "id": "d523444e-1fe0-4cd0-b3b1-d7727c65d7cc",
   "metadata": {},
   "outputs": [
    {
     "data": {
      "text/html": [
       "<div>\n",
       "<style scoped>\n",
       "    .dataframe tbody tr th:only-of-type {\n",
       "        vertical-align: middle;\n",
       "    }\n",
       "\n",
       "    .dataframe tbody tr th {\n",
       "        vertical-align: top;\n",
       "    }\n",
       "\n",
       "    .dataframe thead th {\n",
       "        text-align: right;\n",
       "    }\n",
       "</style>\n",
       "<table border=\"1\" class=\"dataframe\">\n",
       "  <thead>\n",
       "    <tr style=\"text-align: right;\">\n",
       "      <th></th>\n",
       "      <th>age</th>\n",
       "      <th>gender</th>\n",
       "      <th>height</th>\n",
       "      <th>weight</th>\n",
       "    </tr>\n",
       "  </thead>\n",
       "  <tbody>\n",
       "    <tr>\n",
       "      <th>tanaka</th>\n",
       "      <td>60</td>\n",
       "      <td>NaN</td>\n",
       "      <td>180.0</td>\n",
       "      <td>85.0</td>\n",
       "    </tr>\n",
       "    <tr>\n",
       "      <th>yamada</th>\n",
       "      <td>31</td>\n",
       "      <td>F</td>\n",
       "      <td>160.0</td>\n",
       "      <td>NaN</td>\n",
       "    </tr>\n",
       "  </tbody>\n",
       "</table>\n",
       "</div>"
      ],
      "text/plain": [
       "        age gender  height  weight\n",
       "tanaka   60    NaN   180.0    85.0\n",
       "yamada   31      F   160.0     NaN"
      ]
     },
     "execution_count": 90,
     "metadata": {},
     "output_type": "execute_result"
    }
   ],
   "source": [
    "df_info.tail(2)"
   ]
  },
  {
   "cell_type": "code",
   "execution_count": 91,
   "id": "d4b9f8ec-8b5d-46cb-b72b-cc738c774b52",
   "metadata": {},
   "outputs": [
    {
     "data": {
      "text/html": [
       "<div>\n",
       "<style scoped>\n",
       "    .dataframe tbody tr th:only-of-type {\n",
       "        vertical-align: middle;\n",
       "    }\n",
       "\n",
       "    .dataframe tbody tr th {\n",
       "        vertical-align: top;\n",
       "    }\n",
       "\n",
       "    .dataframe thead th {\n",
       "        text-align: right;\n",
       "    }\n",
       "</style>\n",
       "<table border=\"1\" class=\"dataframe\">\n",
       "  <thead>\n",
       "    <tr style=\"text-align: right;\">\n",
       "      <th></th>\n",
       "      <th>age</th>\n",
       "      <th>gender</th>\n",
       "      <th>height</th>\n",
       "      <th>weight</th>\n",
       "    </tr>\n",
       "  </thead>\n",
       "  <tbody>\n",
       "    <tr>\n",
       "      <th>sato</th>\n",
       "      <td>23</td>\n",
       "      <td>M</td>\n",
       "      <td>NaN</td>\n",
       "      <td>65.0</td>\n",
       "    </tr>\n",
       "    <tr>\n",
       "      <th>suzuki</th>\n",
       "      <td>49</td>\n",
       "      <td>F</td>\n",
       "      <td>156.0</td>\n",
       "      <td>NaN</td>\n",
       "    </tr>\n",
       "    <tr>\n",
       "      <th>tanaka</th>\n",
       "      <td>60</td>\n",
       "      <td>NaN</td>\n",
       "      <td>180.0</td>\n",
       "      <td>85.0</td>\n",
       "    </tr>\n",
       "    <tr>\n",
       "      <th>yamada</th>\n",
       "      <td>31</td>\n",
       "      <td>F</td>\n",
       "      <td>160.0</td>\n",
       "      <td>NaN</td>\n",
       "    </tr>\n",
       "  </tbody>\n",
       "</table>\n",
       "</div>"
      ],
      "text/plain": [
       "        age gender  height  weight\n",
       "sato     23      M     NaN    65.0\n",
       "suzuki   49      F   156.0     NaN\n",
       "tanaka   60    NaN   180.0    85.0\n",
       "yamada   31      F   160.0     NaN"
      ]
     },
     "execution_count": 91,
     "metadata": {},
     "output_type": "execute_result"
    }
   ],
   "source": [
    "df_info.tail()"
   ]
  },
  {
   "cell_type": "markdown",
   "id": "ca0ad5b6-24c3-4202-bf40-2a3bbf01f488",
   "metadata": {},
   "source": [
    "## DataFrame の要素の変更\n",
    "- "
   ]
  },
  {
   "cell_type": "code",
   "execution_count": 95,
   "id": "8a0925fb-942b-4b54-b219-c2a15543ac08",
   "metadata": {},
   "outputs": [
    {
     "data": {
      "text/html": [
       "<div>\n",
       "<style scoped>\n",
       "    .dataframe tbody tr th:only-of-type {\n",
       "        vertical-align: middle;\n",
       "    }\n",
       "\n",
       "    .dataframe tbody tr th {\n",
       "        vertical-align: top;\n",
       "    }\n",
       "\n",
       "    .dataframe thead th {\n",
       "        text-align: right;\n",
       "    }\n",
       "</style>\n",
       "<table border=\"1\" class=\"dataframe\">\n",
       "  <thead>\n",
       "    <tr style=\"text-align: right;\">\n",
       "      <th></th>\n",
       "      <th>age</th>\n",
       "      <th>gender</th>\n",
       "      <th>height</th>\n",
       "      <th>weight</th>\n",
       "      <th>hegiht</th>\n",
       "    </tr>\n",
       "  </thead>\n",
       "  <tbody>\n",
       "    <tr>\n",
       "      <th>sato</th>\n",
       "      <td>23</td>\n",
       "      <td>M</td>\n",
       "      <td>NaN</td>\n",
       "      <td>65.0</td>\n",
       "      <td>175</td>\n",
       "    </tr>\n",
       "    <tr>\n",
       "      <th>suzuki</th>\n",
       "      <td>49</td>\n",
       "      <td>F</td>\n",
       "      <td>156.0</td>\n",
       "      <td>NaN</td>\n",
       "      <td>175</td>\n",
       "    </tr>\n",
       "    <tr>\n",
       "      <th>tanaka</th>\n",
       "      <td>60</td>\n",
       "      <td>NaN</td>\n",
       "      <td>180.0</td>\n",
       "      <td>85.0</td>\n",
       "      <td>175</td>\n",
       "    </tr>\n",
       "    <tr>\n",
       "      <th>yamada</th>\n",
       "      <td>31</td>\n",
       "      <td>F</td>\n",
       "      <td>160.0</td>\n",
       "      <td>NaN</td>\n",
       "      <td>175</td>\n",
       "    </tr>\n",
       "  </tbody>\n",
       "</table>\n",
       "</div>"
      ],
      "text/plain": [
       "        age gender  height  weight  hegiht\n",
       "sato     23      M     NaN    65.0     175\n",
       "suzuki   49      F   156.0     NaN     175\n",
       "tanaka   60    NaN   180.0    85.0     175\n",
       "yamada   31      F   160.0     NaN     175"
      ]
     },
     "execution_count": 95,
     "metadata": {},
     "output_type": "execute_result"
    }
   ],
   "source": [
    "df_info"
   ]
  },
  {
   "cell_type": "code",
   "execution_count": 96,
   "id": "91c61707-9dab-4d11-a69f-5be27e09ca7e",
   "metadata": {},
   "outputs": [
    {
     "data": {
      "text/html": [
       "<div>\n",
       "<style scoped>\n",
       "    .dataframe tbody tr th:only-of-type {\n",
       "        vertical-align: middle;\n",
       "    }\n",
       "\n",
       "    .dataframe tbody tr th {\n",
       "        vertical-align: top;\n",
       "    }\n",
       "\n",
       "    .dataframe thead th {\n",
       "        text-align: right;\n",
       "    }\n",
       "</style>\n",
       "<table border=\"1\" class=\"dataframe\">\n",
       "  <thead>\n",
       "    <tr style=\"text-align: right;\">\n",
       "      <th></th>\n",
       "      <th>age</th>\n",
       "      <th>gender</th>\n",
       "      <th>height</th>\n",
       "      <th>weight</th>\n",
       "      <th>hegiht</th>\n",
       "    </tr>\n",
       "  </thead>\n",
       "  <tbody>\n",
       "    <tr>\n",
       "      <th>sato</th>\n",
       "      <td>23</td>\n",
       "      <td>M</td>\n",
       "      <td>NaN</td>\n",
       "      <td>65.0</td>\n",
       "      <td>175</td>\n",
       "    </tr>\n",
       "    <tr>\n",
       "      <th>suzuki</th>\n",
       "      <td>49</td>\n",
       "      <td>F</td>\n",
       "      <td>156.0</td>\n",
       "      <td>NaN</td>\n",
       "      <td>175</td>\n",
       "    </tr>\n",
       "    <tr>\n",
       "      <th>tanaka</th>\n",
       "      <td>60</td>\n",
       "      <td>NaN</td>\n",
       "      <td>180.0</td>\n",
       "      <td>85.0</td>\n",
       "      <td>175</td>\n",
       "    </tr>\n",
       "    <tr>\n",
       "      <th>yamada</th>\n",
       "      <td>31</td>\n",
       "      <td>F</td>\n",
       "      <td>160.0</td>\n",
       "      <td>NaN</td>\n",
       "      <td>175</td>\n",
       "    </tr>\n",
       "  </tbody>\n",
       "</table>\n",
       "</div>"
      ],
      "text/plain": [
       "        age gender  height  weight  hegiht\n",
       "sato     23      M     NaN    65.0     175\n",
       "suzuki   49      F   156.0     NaN     175\n",
       "tanaka   60    NaN   180.0    85.0     175\n",
       "yamada   31      F   160.0     NaN     175"
      ]
     },
     "execution_count": 96,
     "metadata": {},
     "output_type": "execute_result"
    }
   ],
   "source": [
    "df_info"
   ]
  },
  {
   "cell_type": "code",
   "execution_count": 97,
   "id": "7b93b693-945c-46de-a33e-a0ab2484993a",
   "metadata": {},
   "outputs": [],
   "source": [
    "df_info.drop(columns='hegiht', inplace=True)"
   ]
  },
  {
   "cell_type": "code",
   "execution_count": 98,
   "id": "d4a24f53-efad-4aac-a56e-d18512673189",
   "metadata": {},
   "outputs": [
    {
     "data": {
      "text/html": [
       "<div>\n",
       "<style scoped>\n",
       "    .dataframe tbody tr th:only-of-type {\n",
       "        vertical-align: middle;\n",
       "    }\n",
       "\n",
       "    .dataframe tbody tr th {\n",
       "        vertical-align: top;\n",
       "    }\n",
       "\n",
       "    .dataframe thead th {\n",
       "        text-align: right;\n",
       "    }\n",
       "</style>\n",
       "<table border=\"1\" class=\"dataframe\">\n",
       "  <thead>\n",
       "    <tr style=\"text-align: right;\">\n",
       "      <th></th>\n",
       "      <th>age</th>\n",
       "      <th>gender</th>\n",
       "      <th>height</th>\n",
       "      <th>weight</th>\n",
       "    </tr>\n",
       "  </thead>\n",
       "  <tbody>\n",
       "    <tr>\n",
       "      <th>sato</th>\n",
       "      <td>23</td>\n",
       "      <td>M</td>\n",
       "      <td>NaN</td>\n",
       "      <td>65.0</td>\n",
       "    </tr>\n",
       "    <tr>\n",
       "      <th>suzuki</th>\n",
       "      <td>49</td>\n",
       "      <td>F</td>\n",
       "      <td>156.0</td>\n",
       "      <td>NaN</td>\n",
       "    </tr>\n",
       "    <tr>\n",
       "      <th>tanaka</th>\n",
       "      <td>60</td>\n",
       "      <td>NaN</td>\n",
       "      <td>180.0</td>\n",
       "      <td>85.0</td>\n",
       "    </tr>\n",
       "    <tr>\n",
       "      <th>yamada</th>\n",
       "      <td>31</td>\n",
       "      <td>F</td>\n",
       "      <td>160.0</td>\n",
       "      <td>NaN</td>\n",
       "    </tr>\n",
       "  </tbody>\n",
       "</table>\n",
       "</div>"
      ],
      "text/plain": [
       "        age gender  height  weight\n",
       "sato     23      M     NaN    65.0\n",
       "suzuki   49      F   156.0     NaN\n",
       "tanaka   60    NaN   180.0    85.0\n",
       "yamada   31      F   160.0     NaN"
      ]
     },
     "execution_count": 98,
     "metadata": {},
     "output_type": "execute_result"
    }
   ],
   "source": [
    "df_info"
   ]
  },
  {
   "cell_type": "code",
   "execution_count": 99,
   "id": "cb1fbefe-1587-4992-9601-a850361881cb",
   "metadata": {},
   "outputs": [],
   "source": [
    "df_info['height'] = 175"
   ]
  },
  {
   "cell_type": "code",
   "execution_count": 100,
   "id": "97136bf0-9c2e-4267-aa26-075791cc3577",
   "metadata": {},
   "outputs": [
    {
     "data": {
      "text/html": [
       "<div>\n",
       "<style scoped>\n",
       "    .dataframe tbody tr th:only-of-type {\n",
       "        vertical-align: middle;\n",
       "    }\n",
       "\n",
       "    .dataframe tbody tr th {\n",
       "        vertical-align: top;\n",
       "    }\n",
       "\n",
       "    .dataframe thead th {\n",
       "        text-align: right;\n",
       "    }\n",
       "</style>\n",
       "<table border=\"1\" class=\"dataframe\">\n",
       "  <thead>\n",
       "    <tr style=\"text-align: right;\">\n",
       "      <th></th>\n",
       "      <th>age</th>\n",
       "      <th>gender</th>\n",
       "      <th>height</th>\n",
       "      <th>weight</th>\n",
       "    </tr>\n",
       "  </thead>\n",
       "  <tbody>\n",
       "    <tr>\n",
       "      <th>sato</th>\n",
       "      <td>23</td>\n",
       "      <td>M</td>\n",
       "      <td>175</td>\n",
       "      <td>65.0</td>\n",
       "    </tr>\n",
       "    <tr>\n",
       "      <th>suzuki</th>\n",
       "      <td>49</td>\n",
       "      <td>F</td>\n",
       "      <td>175</td>\n",
       "      <td>NaN</td>\n",
       "    </tr>\n",
       "    <tr>\n",
       "      <th>tanaka</th>\n",
       "      <td>60</td>\n",
       "      <td>NaN</td>\n",
       "      <td>175</td>\n",
       "      <td>85.0</td>\n",
       "    </tr>\n",
       "    <tr>\n",
       "      <th>yamada</th>\n",
       "      <td>31</td>\n",
       "      <td>F</td>\n",
       "      <td>175</td>\n",
       "      <td>NaN</td>\n",
       "    </tr>\n",
       "  </tbody>\n",
       "</table>\n",
       "</div>"
      ],
      "text/plain": [
       "        age gender  height  weight\n",
       "sato     23      M     175    65.0\n",
       "suzuki   49      F     175     NaN\n",
       "tanaka   60    NaN     175    85.0\n",
       "yamada   31      F     175     NaN"
      ]
     },
     "execution_count": 100,
     "metadata": {},
     "output_type": "execute_result"
    }
   ],
   "source": [
    "df_info"
   ]
  },
  {
   "cell_type": "code",
   "execution_count": 101,
   "id": "e1e31091-234c-46a2-9812-6806fcba7870",
   "metadata": {},
   "outputs": [],
   "source": [
    "df_info.loc['sato', 'weight'] = 100"
   ]
  },
  {
   "cell_type": "code",
   "execution_count": 102,
   "id": "d8fdafbe-91f7-4135-942a-4c26ca926b04",
   "metadata": {},
   "outputs": [
    {
     "data": {
      "text/html": [
       "<div>\n",
       "<style scoped>\n",
       "    .dataframe tbody tr th:only-of-type {\n",
       "        vertical-align: middle;\n",
       "    }\n",
       "\n",
       "    .dataframe tbody tr th {\n",
       "        vertical-align: top;\n",
       "    }\n",
       "\n",
       "    .dataframe thead th {\n",
       "        text-align: right;\n",
       "    }\n",
       "</style>\n",
       "<table border=\"1\" class=\"dataframe\">\n",
       "  <thead>\n",
       "    <tr style=\"text-align: right;\">\n",
       "      <th></th>\n",
       "      <th>age</th>\n",
       "      <th>gender</th>\n",
       "      <th>height</th>\n",
       "      <th>weight</th>\n",
       "    </tr>\n",
       "  </thead>\n",
       "  <tbody>\n",
       "    <tr>\n",
       "      <th>sato</th>\n",
       "      <td>23</td>\n",
       "      <td>M</td>\n",
       "      <td>175</td>\n",
       "      <td>100.0</td>\n",
       "    </tr>\n",
       "    <tr>\n",
       "      <th>suzuki</th>\n",
       "      <td>49</td>\n",
       "      <td>F</td>\n",
       "      <td>175</td>\n",
       "      <td>NaN</td>\n",
       "    </tr>\n",
       "    <tr>\n",
       "      <th>tanaka</th>\n",
       "      <td>60</td>\n",
       "      <td>NaN</td>\n",
       "      <td>175</td>\n",
       "      <td>85.0</td>\n",
       "    </tr>\n",
       "    <tr>\n",
       "      <th>yamada</th>\n",
       "      <td>31</td>\n",
       "      <td>F</td>\n",
       "      <td>175</td>\n",
       "      <td>NaN</td>\n",
       "    </tr>\n",
       "  </tbody>\n",
       "</table>\n",
       "</div>"
      ],
      "text/plain": [
       "        age gender  height  weight\n",
       "sato     23      M     175   100.0\n",
       "suzuki   49      F     175     NaN\n",
       "tanaka   60    NaN     175    85.0\n",
       "yamada   31      F     175     NaN"
      ]
     },
     "execution_count": 102,
     "metadata": {},
     "output_type": "execute_result"
    }
   ],
   "source": [
    "df_info"
   ]
  },
  {
   "cell_type": "code",
   "execution_count": 103,
   "id": "843a80b0-e458-41b2-9e65-589f28507623",
   "metadata": {},
   "outputs": [],
   "source": [
    "df_info.iloc[0] = 30"
   ]
  },
  {
   "cell_type": "code",
   "execution_count": 104,
   "id": "2b24f298-79ac-4afd-80f6-0d684192c844",
   "metadata": {},
   "outputs": [
    {
     "data": {
      "text/html": [
       "<div>\n",
       "<style scoped>\n",
       "    .dataframe tbody tr th:only-of-type {\n",
       "        vertical-align: middle;\n",
       "    }\n",
       "\n",
       "    .dataframe tbody tr th {\n",
       "        vertical-align: top;\n",
       "    }\n",
       "\n",
       "    .dataframe thead th {\n",
       "        text-align: right;\n",
       "    }\n",
       "</style>\n",
       "<table border=\"1\" class=\"dataframe\">\n",
       "  <thead>\n",
       "    <tr style=\"text-align: right;\">\n",
       "      <th></th>\n",
       "      <th>age</th>\n",
       "      <th>gender</th>\n",
       "      <th>height</th>\n",
       "      <th>weight</th>\n",
       "    </tr>\n",
       "  </thead>\n",
       "  <tbody>\n",
       "    <tr>\n",
       "      <th>sato</th>\n",
       "      <td>30</td>\n",
       "      <td>30</td>\n",
       "      <td>30</td>\n",
       "      <td>30.0</td>\n",
       "    </tr>\n",
       "    <tr>\n",
       "      <th>suzuki</th>\n",
       "      <td>49</td>\n",
       "      <td>F</td>\n",
       "      <td>175</td>\n",
       "      <td>NaN</td>\n",
       "    </tr>\n",
       "    <tr>\n",
       "      <th>tanaka</th>\n",
       "      <td>60</td>\n",
       "      <td>NaN</td>\n",
       "      <td>175</td>\n",
       "      <td>85.0</td>\n",
       "    </tr>\n",
       "    <tr>\n",
       "      <th>yamada</th>\n",
       "      <td>31</td>\n",
       "      <td>F</td>\n",
       "      <td>175</td>\n",
       "      <td>NaN</td>\n",
       "    </tr>\n",
       "  </tbody>\n",
       "</table>\n",
       "</div>"
      ],
      "text/plain": [
       "        age gender  height  weight\n",
       "sato     30     30      30    30.0\n",
       "suzuki   49      F     175     NaN\n",
       "tanaka   60    NaN     175    85.0\n",
       "yamada   31      F     175     NaN"
      ]
     },
     "execution_count": 104,
     "metadata": {},
     "output_type": "execute_result"
    }
   ],
   "source": [
    "df_info"
   ]
  },
  {
   "cell_type": "code",
   "execution_count": 105,
   "id": "d1d85352-a74c-4517-ab16-0f2efb9938ac",
   "metadata": {},
   "outputs": [],
   "source": [
    "df_info.iloc[1, 1] = 'M'"
   ]
  },
  {
   "cell_type": "code",
   "execution_count": 106,
   "id": "bbcc9697-1add-47ae-b1e8-def60dfd5259",
   "metadata": {},
   "outputs": [
    {
     "data": {
      "text/html": [
       "<div>\n",
       "<style scoped>\n",
       "    .dataframe tbody tr th:only-of-type {\n",
       "        vertical-align: middle;\n",
       "    }\n",
       "\n",
       "    .dataframe tbody tr th {\n",
       "        vertical-align: top;\n",
       "    }\n",
       "\n",
       "    .dataframe thead th {\n",
       "        text-align: right;\n",
       "    }\n",
       "</style>\n",
       "<table border=\"1\" class=\"dataframe\">\n",
       "  <thead>\n",
       "    <tr style=\"text-align: right;\">\n",
       "      <th></th>\n",
       "      <th>age</th>\n",
       "      <th>gender</th>\n",
       "      <th>height</th>\n",
       "      <th>weight</th>\n",
       "    </tr>\n",
       "  </thead>\n",
       "  <tbody>\n",
       "    <tr>\n",
       "      <th>sato</th>\n",
       "      <td>30</td>\n",
       "      <td>30</td>\n",
       "      <td>30</td>\n",
       "      <td>30.0</td>\n",
       "    </tr>\n",
       "    <tr>\n",
       "      <th>suzuki</th>\n",
       "      <td>49</td>\n",
       "      <td>M</td>\n",
       "      <td>175</td>\n",
       "      <td>NaN</td>\n",
       "    </tr>\n",
       "    <tr>\n",
       "      <th>tanaka</th>\n",
       "      <td>60</td>\n",
       "      <td>NaN</td>\n",
       "      <td>175</td>\n",
       "      <td>85.0</td>\n",
       "    </tr>\n",
       "    <tr>\n",
       "      <th>yamada</th>\n",
       "      <td>31</td>\n",
       "      <td>F</td>\n",
       "      <td>175</td>\n",
       "      <td>NaN</td>\n",
       "    </tr>\n",
       "  </tbody>\n",
       "</table>\n",
       "</div>"
      ],
      "text/plain": [
       "        age gender  height  weight\n",
       "sato     30     30      30    30.0\n",
       "suzuki   49      M     175     NaN\n",
       "tanaka   60    NaN     175    85.0\n",
       "yamada   31      F     175     NaN"
      ]
     },
     "execution_count": 106,
     "metadata": {},
     "output_type": "execute_result"
    }
   ],
   "source": [
    "df_info"
   ]
  },
  {
   "cell_type": "code",
   "execution_count": 107,
   "id": "c8a5bbe7-e903-4905-b278-8f964b9f57ed",
   "metadata": {},
   "outputs": [],
   "source": [
    "df_info.iloc[0, 1] = 'M'"
   ]
  },
  {
   "cell_type": "code",
   "execution_count": 108,
   "id": "c40d116c-6826-44f7-87eb-a70f0401288a",
   "metadata": {},
   "outputs": [
    {
     "data": {
      "text/html": [
       "<div>\n",
       "<style scoped>\n",
       "    .dataframe tbody tr th:only-of-type {\n",
       "        vertical-align: middle;\n",
       "    }\n",
       "\n",
       "    .dataframe tbody tr th {\n",
       "        vertical-align: top;\n",
       "    }\n",
       "\n",
       "    .dataframe thead th {\n",
       "        text-align: right;\n",
       "    }\n",
       "</style>\n",
       "<table border=\"1\" class=\"dataframe\">\n",
       "  <thead>\n",
       "    <tr style=\"text-align: right;\">\n",
       "      <th></th>\n",
       "      <th>age</th>\n",
       "      <th>gender</th>\n",
       "      <th>height</th>\n",
       "      <th>weight</th>\n",
       "    </tr>\n",
       "  </thead>\n",
       "  <tbody>\n",
       "    <tr>\n",
       "      <th>sato</th>\n",
       "      <td>30</td>\n",
       "      <td>M</td>\n",
       "      <td>30</td>\n",
       "      <td>30.0</td>\n",
       "    </tr>\n",
       "    <tr>\n",
       "      <th>suzuki</th>\n",
       "      <td>49</td>\n",
       "      <td>M</td>\n",
       "      <td>175</td>\n",
       "      <td>NaN</td>\n",
       "    </tr>\n",
       "    <tr>\n",
       "      <th>tanaka</th>\n",
       "      <td>60</td>\n",
       "      <td>NaN</td>\n",
       "      <td>175</td>\n",
       "      <td>85.0</td>\n",
       "    </tr>\n",
       "    <tr>\n",
       "      <th>yamada</th>\n",
       "      <td>31</td>\n",
       "      <td>F</td>\n",
       "      <td>175</td>\n",
       "      <td>NaN</td>\n",
       "    </tr>\n",
       "  </tbody>\n",
       "</table>\n",
       "</div>"
      ],
      "text/plain": [
       "        age gender  height  weight\n",
       "sato     30      M      30    30.0\n",
       "suzuki   49      M     175     NaN\n",
       "tanaka   60    NaN     175    85.0\n",
       "yamada   31      F     175     NaN"
      ]
     },
     "execution_count": 108,
     "metadata": {},
     "output_type": "execute_result"
    }
   ],
   "source": [
    "df_info"
   ]
  },
  {
   "cell_type": "markdown",
   "id": "2099164d-9519-479e-a7b1-ecf7c38567d5",
   "metadata": {},
   "source": [
    "### DataFrame による列と行の追加"
   ]
  },
  {
   "cell_type": "code",
   "execution_count": 109,
   "id": "6869e4b1-c09b-4660-ac53-0db533eed0e7",
   "metadata": {},
   "outputs": [
    {
     "data": {
      "text/html": [
       "<div>\n",
       "<style scoped>\n",
       "    .dataframe tbody tr th:only-of-type {\n",
       "        vertical-align: middle;\n",
       "    }\n",
       "\n",
       "    .dataframe tbody tr th {\n",
       "        vertical-align: top;\n",
       "    }\n",
       "\n",
       "    .dataframe thead th {\n",
       "        text-align: right;\n",
       "    }\n",
       "</style>\n",
       "<table border=\"1\" class=\"dataframe\">\n",
       "  <thead>\n",
       "    <tr style=\"text-align: right;\">\n",
       "      <th></th>\n",
       "      <th>age</th>\n",
       "      <th>gender</th>\n",
       "      <th>height</th>\n",
       "      <th>weight</th>\n",
       "    </tr>\n",
       "  </thead>\n",
       "  <tbody>\n",
       "    <tr>\n",
       "      <th>sato</th>\n",
       "      <td>30</td>\n",
       "      <td>M</td>\n",
       "      <td>30</td>\n",
       "      <td>30.0</td>\n",
       "    </tr>\n",
       "    <tr>\n",
       "      <th>suzuki</th>\n",
       "      <td>49</td>\n",
       "      <td>M</td>\n",
       "      <td>175</td>\n",
       "      <td>NaN</td>\n",
       "    </tr>\n",
       "    <tr>\n",
       "      <th>tanaka</th>\n",
       "      <td>60</td>\n",
       "      <td>NaN</td>\n",
       "      <td>175</td>\n",
       "      <td>85.0</td>\n",
       "    </tr>\n",
       "    <tr>\n",
       "      <th>yamada</th>\n",
       "      <td>31</td>\n",
       "      <td>F</td>\n",
       "      <td>175</td>\n",
       "      <td>NaN</td>\n",
       "    </tr>\n",
       "  </tbody>\n",
       "</table>\n",
       "</div>"
      ],
      "text/plain": [
       "        age gender  height  weight\n",
       "sato     30      M      30    30.0\n",
       "suzuki   49      M     175     NaN\n",
       "tanaka   60    NaN     175    85.0\n",
       "yamada   31      F     175     NaN"
      ]
     },
     "execution_count": 109,
     "metadata": {},
     "output_type": "execute_result"
    }
   ],
   "source": [
    "df_info"
   ]
  },
  {
   "cell_type": "code",
   "execution_count": 110,
   "id": "ad6f769b-58bc-49dc-b64d-4efd23706434",
   "metadata": {},
   "outputs": [],
   "source": [
    "df_info['new_colum'] = 1 # 列の最後に追加　：　１を代入\n",
    "df_info.loc['new_index'] = 0 # 行の一番最後に追加 : ０を代入　"
   ]
  },
  {
   "cell_type": "code",
   "execution_count": 112,
   "id": "4a077dea-0971-4c25-9ff9-554b68da3d0d",
   "metadata": {},
   "outputs": [
    {
     "data": {
      "text/html": [
       "<div>\n",
       "<style scoped>\n",
       "    .dataframe tbody tr th:only-of-type {\n",
       "        vertical-align: middle;\n",
       "    }\n",
       "\n",
       "    .dataframe tbody tr th {\n",
       "        vertical-align: top;\n",
       "    }\n",
       "\n",
       "    .dataframe thead th {\n",
       "        text-align: right;\n",
       "    }\n",
       "</style>\n",
       "<table border=\"1\" class=\"dataframe\">\n",
       "  <thead>\n",
       "    <tr style=\"text-align: right;\">\n",
       "      <th></th>\n",
       "      <th>age</th>\n",
       "      <th>gender</th>\n",
       "      <th>height</th>\n",
       "      <th>weight</th>\n",
       "      <th>new_colum</th>\n",
       "    </tr>\n",
       "  </thead>\n",
       "  <tbody>\n",
       "    <tr>\n",
       "      <th>sato</th>\n",
       "      <td>30</td>\n",
       "      <td>M</td>\n",
       "      <td>30</td>\n",
       "      <td>30.0</td>\n",
       "      <td>1</td>\n",
       "    </tr>\n",
       "    <tr>\n",
       "      <th>suzuki</th>\n",
       "      <td>49</td>\n",
       "      <td>M</td>\n",
       "      <td>175</td>\n",
       "      <td>NaN</td>\n",
       "      <td>1</td>\n",
       "    </tr>\n",
       "    <tr>\n",
       "      <th>tanaka</th>\n",
       "      <td>60</td>\n",
       "      <td>NaN</td>\n",
       "      <td>175</td>\n",
       "      <td>85.0</td>\n",
       "      <td>1</td>\n",
       "    </tr>\n",
       "    <tr>\n",
       "      <th>yamada</th>\n",
       "      <td>31</td>\n",
       "      <td>F</td>\n",
       "      <td>175</td>\n",
       "      <td>NaN</td>\n",
       "      <td>1</td>\n",
       "    </tr>\n",
       "    <tr>\n",
       "      <th>new_index</th>\n",
       "      <td>0</td>\n",
       "      <td>0</td>\n",
       "      <td>0</td>\n",
       "      <td>0.0</td>\n",
       "      <td>0</td>\n",
       "    </tr>\n",
       "  </tbody>\n",
       "</table>\n",
       "</div>"
      ],
      "text/plain": [
       "           age gender  height  weight  new_colum\n",
       "sato        30      M      30    30.0          1\n",
       "suzuki      49      M     175     NaN          1\n",
       "tanaka      60    NaN     175    85.0          1\n",
       "yamada      31      F     175     NaN          1\n",
       "new_index    0      0       0     0.0          0"
      ]
     },
     "execution_count": 112,
     "metadata": {},
     "output_type": "execute_result"
    }
   ],
   "source": [
    "df_info"
   ]
  },
  {
   "cell_type": "markdown",
   "id": "deccc930-3de5-4c96-9745-9dc4b1995000",
   "metadata": {},
   "source": [
    "new_colum の　0 は, new_index に上書きされたので　0 の表示になる"
   ]
  },
  {
   "cell_type": "markdown",
   "id": "7d953c9a-856e-400f-a2fc-5b86f2928d7c",
   "metadata": {},
   "source": [
    "## DataFrame の行と列の削除"
   ]
  },
  {
   "cell_type": "code",
   "execution_count": 113,
   "id": "19856da5-d4a9-4cee-baea-1e87c31255e5",
   "metadata": {},
   "outputs": [
    {
     "data": {
      "text/html": [
       "<div>\n",
       "<style scoped>\n",
       "    .dataframe tbody tr th:only-of-type {\n",
       "        vertical-align: middle;\n",
       "    }\n",
       "\n",
       "    .dataframe tbody tr th {\n",
       "        vertical-align: top;\n",
       "    }\n",
       "\n",
       "    .dataframe thead th {\n",
       "        text-align: right;\n",
       "    }\n",
       "</style>\n",
       "<table border=\"1\" class=\"dataframe\">\n",
       "  <thead>\n",
       "    <tr style=\"text-align: right;\">\n",
       "      <th></th>\n",
       "      <th>age</th>\n",
       "      <th>gender</th>\n",
       "      <th>height</th>\n",
       "      <th>weight</th>\n",
       "      <th>new_colum</th>\n",
       "    </tr>\n",
       "  </thead>\n",
       "  <tbody>\n",
       "    <tr>\n",
       "      <th>sato</th>\n",
       "      <td>30</td>\n",
       "      <td>M</td>\n",
       "      <td>30</td>\n",
       "      <td>30.0</td>\n",
       "      <td>1</td>\n",
       "    </tr>\n",
       "    <tr>\n",
       "      <th>suzuki</th>\n",
       "      <td>49</td>\n",
       "      <td>M</td>\n",
       "      <td>175</td>\n",
       "      <td>NaN</td>\n",
       "      <td>1</td>\n",
       "    </tr>\n",
       "    <tr>\n",
       "      <th>tanaka</th>\n",
       "      <td>60</td>\n",
       "      <td>NaN</td>\n",
       "      <td>175</td>\n",
       "      <td>85.0</td>\n",
       "      <td>1</td>\n",
       "    </tr>\n",
       "    <tr>\n",
       "      <th>yamada</th>\n",
       "      <td>31</td>\n",
       "      <td>F</td>\n",
       "      <td>175</td>\n",
       "      <td>NaN</td>\n",
       "      <td>1</td>\n",
       "    </tr>\n",
       "    <tr>\n",
       "      <th>new_index</th>\n",
       "      <td>0</td>\n",
       "      <td>0</td>\n",
       "      <td>0</td>\n",
       "      <td>0.0</td>\n",
       "      <td>0</td>\n",
       "    </tr>\n",
       "  </tbody>\n",
       "</table>\n",
       "</div>"
      ],
      "text/plain": [
       "           age gender  height  weight  new_colum\n",
       "sato        30      M      30    30.0          1\n",
       "suzuki      49      M     175     NaN          1\n",
       "tanaka      60    NaN     175    85.0          1\n",
       "yamada      31      F     175     NaN          1\n",
       "new_index    0      0       0     0.0          0"
      ]
     },
     "execution_count": 113,
     "metadata": {},
     "output_type": "execute_result"
    }
   ],
   "source": [
    "df_info"
   ]
  },
  {
   "cell_type": "code",
   "execution_count": 115,
   "id": "1a5b4afb-35be-47ec-9771-24f9c8cb5878",
   "metadata": {},
   "outputs": [
    {
     "data": {
      "text/html": [
       "<div>\n",
       "<style scoped>\n",
       "    .dataframe tbody tr th:only-of-type {\n",
       "        vertical-align: middle;\n",
       "    }\n",
       "\n",
       "    .dataframe tbody tr th {\n",
       "        vertical-align: top;\n",
       "    }\n",
       "\n",
       "    .dataframe thead th {\n",
       "        text-align: right;\n",
       "    }\n",
       "</style>\n",
       "<table border=\"1\" class=\"dataframe\">\n",
       "  <thead>\n",
       "    <tr style=\"text-align: right;\">\n",
       "      <th></th>\n",
       "      <th>gender</th>\n",
       "      <th>height</th>\n",
       "      <th>weight</th>\n",
       "      <th>new_colum</th>\n",
       "    </tr>\n",
       "  </thead>\n",
       "  <tbody>\n",
       "    <tr>\n",
       "      <th>sato</th>\n",
       "      <td>M</td>\n",
       "      <td>30</td>\n",
       "      <td>30.0</td>\n",
       "      <td>1</td>\n",
       "    </tr>\n",
       "    <tr>\n",
       "      <th>suzuki</th>\n",
       "      <td>M</td>\n",
       "      <td>175</td>\n",
       "      <td>NaN</td>\n",
       "      <td>1</td>\n",
       "    </tr>\n",
       "    <tr>\n",
       "      <th>tanaka</th>\n",
       "      <td>NaN</td>\n",
       "      <td>175</td>\n",
       "      <td>85.0</td>\n",
       "      <td>1</td>\n",
       "    </tr>\n",
       "    <tr>\n",
       "      <th>yamada</th>\n",
       "      <td>F</td>\n",
       "      <td>175</td>\n",
       "      <td>NaN</td>\n",
       "      <td>1</td>\n",
       "    </tr>\n",
       "    <tr>\n",
       "      <th>new_index</th>\n",
       "      <td>0</td>\n",
       "      <td>0</td>\n",
       "      <td>0.0</td>\n",
       "      <td>0</td>\n",
       "    </tr>\n",
       "  </tbody>\n",
       "</table>\n",
       "</div>"
      ],
      "text/plain": [
       "          gender  height  weight  new_colum\n",
       "sato           M      30    30.0          1\n",
       "suzuki         M     175     NaN          1\n",
       "tanaka       NaN     175    85.0          1\n",
       "yamada         F     175     NaN          1\n",
       "new_index      0       0     0.0          0"
      ]
     },
     "execution_count": 115,
     "metadata": {},
     "output_type": "execute_result"
    }
   ],
   "source": [
    "df_info.drop(labels='age', axis=1) # axis は列"
   ]
  },
  {
   "cell_type": "code",
   "execution_count": 116,
   "id": "9fec4278-fa23-40fc-846e-d5d6f0d6b711",
   "metadata": {},
   "outputs": [
    {
     "data": {
      "text/html": [
       "<div>\n",
       "<style scoped>\n",
       "    .dataframe tbody tr th:only-of-type {\n",
       "        vertical-align: middle;\n",
       "    }\n",
       "\n",
       "    .dataframe tbody tr th {\n",
       "        vertical-align: top;\n",
       "    }\n",
       "\n",
       "    .dataframe thead th {\n",
       "        text-align: right;\n",
       "    }\n",
       "</style>\n",
       "<table border=\"1\" class=\"dataframe\">\n",
       "  <thead>\n",
       "    <tr style=\"text-align: right;\">\n",
       "      <th></th>\n",
       "      <th>age</th>\n",
       "      <th>gender</th>\n",
       "      <th>height</th>\n",
       "      <th>weight</th>\n",
       "      <th>new_colum</th>\n",
       "    </tr>\n",
       "  </thead>\n",
       "  <tbody>\n",
       "    <tr>\n",
       "      <th>sato</th>\n",
       "      <td>30</td>\n",
       "      <td>M</td>\n",
       "      <td>30</td>\n",
       "      <td>30.0</td>\n",
       "      <td>1</td>\n",
       "    </tr>\n",
       "    <tr>\n",
       "      <th>suzuki</th>\n",
       "      <td>49</td>\n",
       "      <td>M</td>\n",
       "      <td>175</td>\n",
       "      <td>NaN</td>\n",
       "      <td>1</td>\n",
       "    </tr>\n",
       "    <tr>\n",
       "      <th>tanaka</th>\n",
       "      <td>60</td>\n",
       "      <td>NaN</td>\n",
       "      <td>175</td>\n",
       "      <td>85.0</td>\n",
       "      <td>1</td>\n",
       "    </tr>\n",
       "    <tr>\n",
       "      <th>yamada</th>\n",
       "      <td>31</td>\n",
       "      <td>F</td>\n",
       "      <td>175</td>\n",
       "      <td>NaN</td>\n",
       "      <td>1</td>\n",
       "    </tr>\n",
       "    <tr>\n",
       "      <th>new_index</th>\n",
       "      <td>0</td>\n",
       "      <td>0</td>\n",
       "      <td>0</td>\n",
       "      <td>0.0</td>\n",
       "      <td>0</td>\n",
       "    </tr>\n",
       "  </tbody>\n",
       "</table>\n",
       "</div>"
      ],
      "text/plain": [
       "           age gender  height  weight  new_colum\n",
       "sato        30      M      30    30.0          1\n",
       "suzuki      49      M     175     NaN          1\n",
       "tanaka      60    NaN     175    85.0          1\n",
       "yamada      31      F     175     NaN          1\n",
       "new_index    0      0       0     0.0          0"
      ]
     },
     "execution_count": 116,
     "metadata": {},
     "output_type": "execute_result"
    }
   ],
   "source": [
    "df_info"
   ]
  },
  {
   "cell_type": "code",
   "execution_count": 117,
   "id": "bd7bce80-ac96-49e3-b189-30f65ed8d654",
   "metadata": {},
   "outputs": [],
   "source": [
    "df_info.drop(labels='age', axis=1, inplace=True)"
   ]
  },
  {
   "cell_type": "code",
   "execution_count": 119,
   "id": "9a14c81d-6320-4613-9bc5-32e803559a0f",
   "metadata": {},
   "outputs": [
    {
     "data": {
      "text/html": [
       "<div>\n",
       "<style scoped>\n",
       "    .dataframe tbody tr th:only-of-type {\n",
       "        vertical-align: middle;\n",
       "    }\n",
       "\n",
       "    .dataframe tbody tr th {\n",
       "        vertical-align: top;\n",
       "    }\n",
       "\n",
       "    .dataframe thead th {\n",
       "        text-align: right;\n",
       "    }\n",
       "</style>\n",
       "<table border=\"1\" class=\"dataframe\">\n",
       "  <thead>\n",
       "    <tr style=\"text-align: right;\">\n",
       "      <th></th>\n",
       "      <th>gender</th>\n",
       "      <th>height</th>\n",
       "      <th>weight</th>\n",
       "      <th>new_colum</th>\n",
       "    </tr>\n",
       "  </thead>\n",
       "  <tbody>\n",
       "    <tr>\n",
       "      <th>sato</th>\n",
       "      <td>M</td>\n",
       "      <td>30</td>\n",
       "      <td>30.0</td>\n",
       "      <td>1</td>\n",
       "    </tr>\n",
       "    <tr>\n",
       "      <th>suzuki</th>\n",
       "      <td>M</td>\n",
       "      <td>175</td>\n",
       "      <td>NaN</td>\n",
       "      <td>1</td>\n",
       "    </tr>\n",
       "    <tr>\n",
       "      <th>tanaka</th>\n",
       "      <td>NaN</td>\n",
       "      <td>175</td>\n",
       "      <td>85.0</td>\n",
       "      <td>1</td>\n",
       "    </tr>\n",
       "    <tr>\n",
       "      <th>yamada</th>\n",
       "      <td>F</td>\n",
       "      <td>175</td>\n",
       "      <td>NaN</td>\n",
       "      <td>1</td>\n",
       "    </tr>\n",
       "    <tr>\n",
       "      <th>new_index</th>\n",
       "      <td>0</td>\n",
       "      <td>0</td>\n",
       "      <td>0.0</td>\n",
       "      <td>0</td>\n",
       "    </tr>\n",
       "  </tbody>\n",
       "</table>\n",
       "</div>"
      ],
      "text/plain": [
       "          gender  height  weight  new_colum\n",
       "sato           M      30    30.0          1\n",
       "suzuki         M     175     NaN          1\n",
       "tanaka       NaN     175    85.0          1\n",
       "yamada         F     175     NaN          1\n",
       "new_index      0       0     0.0          0"
      ]
     },
     "execution_count": 119,
     "metadata": {},
     "output_type": "execute_result"
    }
   ],
   "source": [
    "df_info"
   ]
  },
  {
   "cell_type": "markdown",
   "id": "d8e25541-ae41-4564-9fbc-89d9e4f11407",
   "metadata": {},
   "source": [
    "### 複数列の削除"
   ]
  },
  {
   "cell_type": "code",
   "execution_count": 121,
   "id": "d1b3d774-1bd2-4635-8d0d-1bf1cd4dcad5",
   "metadata": {},
   "outputs": [],
   "source": [
    "df_info.drop(labels=['height', 'weight'], axis=1, inplace=True)"
   ]
  },
  {
   "cell_type": "code",
   "execution_count": 122,
   "id": "787e8f24-ea57-4a89-a96d-af092afe7019",
   "metadata": {},
   "outputs": [
    {
     "data": {
      "text/html": [
       "<div>\n",
       "<style scoped>\n",
       "    .dataframe tbody tr th:only-of-type {\n",
       "        vertical-align: middle;\n",
       "    }\n",
       "\n",
       "    .dataframe tbody tr th {\n",
       "        vertical-align: top;\n",
       "    }\n",
       "\n",
       "    .dataframe thead th {\n",
       "        text-align: right;\n",
       "    }\n",
       "</style>\n",
       "<table border=\"1\" class=\"dataframe\">\n",
       "  <thead>\n",
       "    <tr style=\"text-align: right;\">\n",
       "      <th></th>\n",
       "      <th>gender</th>\n",
       "      <th>new_colum</th>\n",
       "    </tr>\n",
       "  </thead>\n",
       "  <tbody>\n",
       "    <tr>\n",
       "      <th>sato</th>\n",
       "      <td>M</td>\n",
       "      <td>1</td>\n",
       "    </tr>\n",
       "    <tr>\n",
       "      <th>suzuki</th>\n",
       "      <td>M</td>\n",
       "      <td>1</td>\n",
       "    </tr>\n",
       "    <tr>\n",
       "      <th>tanaka</th>\n",
       "      <td>NaN</td>\n",
       "      <td>1</td>\n",
       "    </tr>\n",
       "    <tr>\n",
       "      <th>yamada</th>\n",
       "      <td>F</td>\n",
       "      <td>1</td>\n",
       "    </tr>\n",
       "    <tr>\n",
       "      <th>new_index</th>\n",
       "      <td>0</td>\n",
       "      <td>0</td>\n",
       "    </tr>\n",
       "  </tbody>\n",
       "</table>\n",
       "</div>"
      ],
      "text/plain": [
       "          gender  new_colum\n",
       "sato           M          1\n",
       "suzuki         M          1\n",
       "tanaka       NaN          1\n",
       "yamada         F          1\n",
       "new_index      0          0"
      ]
     },
     "execution_count": 122,
     "metadata": {},
     "output_type": "execute_result"
    }
   ],
   "source": [
    "df_info"
   ]
  },
  {
   "cell_type": "code",
   "execution_count": 123,
   "id": "c8c407ba-4f90-4f0f-b5bc-36dd0288013d",
   "metadata": {},
   "outputs": [],
   "source": [
    "df_info.drop(labels='sato', axis=0, inplace=True)"
   ]
  },
  {
   "cell_type": "code",
   "execution_count": 124,
   "id": "7016c367-38f9-49a1-8a64-ab69598d0372",
   "metadata": {},
   "outputs": [
    {
     "data": {
      "text/html": [
       "<div>\n",
       "<style scoped>\n",
       "    .dataframe tbody tr th:only-of-type {\n",
       "        vertical-align: middle;\n",
       "    }\n",
       "\n",
       "    .dataframe tbody tr th {\n",
       "        vertical-align: top;\n",
       "    }\n",
       "\n",
       "    .dataframe thead th {\n",
       "        text-align: right;\n",
       "    }\n",
       "</style>\n",
       "<table border=\"1\" class=\"dataframe\">\n",
       "  <thead>\n",
       "    <tr style=\"text-align: right;\">\n",
       "      <th></th>\n",
       "      <th>gender</th>\n",
       "      <th>new_colum</th>\n",
       "    </tr>\n",
       "  </thead>\n",
       "  <tbody>\n",
       "    <tr>\n",
       "      <th>suzuki</th>\n",
       "      <td>M</td>\n",
       "      <td>1</td>\n",
       "    </tr>\n",
       "    <tr>\n",
       "      <th>tanaka</th>\n",
       "      <td>NaN</td>\n",
       "      <td>1</td>\n",
       "    </tr>\n",
       "    <tr>\n",
       "      <th>yamada</th>\n",
       "      <td>F</td>\n",
       "      <td>1</td>\n",
       "    </tr>\n",
       "    <tr>\n",
       "      <th>new_index</th>\n",
       "      <td>0</td>\n",
       "      <td>0</td>\n",
       "    </tr>\n",
       "  </tbody>\n",
       "</table>\n",
       "</div>"
      ],
      "text/plain": [
       "          gender  new_colum\n",
       "suzuki         M          1\n",
       "tanaka       NaN          1\n",
       "yamada         F          1\n",
       "new_index      0          0"
      ]
     },
     "execution_count": 124,
     "metadata": {},
     "output_type": "execute_result"
    }
   ],
   "source": [
    "df_info"
   ]
  },
  {
   "cell_type": "code",
   "execution_count": 126,
   "id": "b96109d3-ae43-4ca7-adbb-88852da3e5ae",
   "metadata": {},
   "outputs": [],
   "source": [
    "df_info.drop(labels=['new_index', 'yamada'], axis=0, inplace=True)"
   ]
  },
  {
   "cell_type": "code",
   "execution_count": 127,
   "id": "9c60a562-0b1f-4a9b-a173-208d68a204d0",
   "metadata": {},
   "outputs": [
    {
     "data": {
      "text/html": [
       "<div>\n",
       "<style scoped>\n",
       "    .dataframe tbody tr th:only-of-type {\n",
       "        vertical-align: middle;\n",
       "    }\n",
       "\n",
       "    .dataframe tbody tr th {\n",
       "        vertical-align: top;\n",
       "    }\n",
       "\n",
       "    .dataframe thead th {\n",
       "        text-align: right;\n",
       "    }\n",
       "</style>\n",
       "<table border=\"1\" class=\"dataframe\">\n",
       "  <thead>\n",
       "    <tr style=\"text-align: right;\">\n",
       "      <th></th>\n",
       "      <th>gender</th>\n",
       "      <th>new_colum</th>\n",
       "    </tr>\n",
       "  </thead>\n",
       "  <tbody>\n",
       "    <tr>\n",
       "      <th>suzuki</th>\n",
       "      <td>M</td>\n",
       "      <td>1</td>\n",
       "    </tr>\n",
       "    <tr>\n",
       "      <th>tanaka</th>\n",
       "      <td>NaN</td>\n",
       "      <td>1</td>\n",
       "    </tr>\n",
       "  </tbody>\n",
       "</table>\n",
       "</div>"
      ],
      "text/plain": [
       "       gender  new_colum\n",
       "suzuki      M          1\n",
       "tanaka    NaN          1"
      ]
     },
     "execution_count": 127,
     "metadata": {},
     "output_type": "execute_result"
    }
   ],
   "source": [
    "df_info"
   ]
  },
  {
   "cell_type": "code",
   "execution_count": null,
   "id": "72902686-661b-4c44-b9b8-cb78e5e62eb5",
   "metadata": {},
   "outputs": [],
   "source": []
  }
 ],
 "metadata": {
  "kernelspec": {
   "display_name": "Python 3 (ipykernel)",
   "language": "python",
   "name": "python3"
  },
  "language_info": {
   "codemirror_mode": {
    "name": "ipython",
    "version": 3
   },
   "file_extension": ".py",
   "mimetype": "text/x-python",
   "name": "python",
   "nbconvert_exporter": "python",
   "pygments_lexer": "ipython3",
   "version": "3.9.6"
  }
 },
 "nbformat": 4,
 "nbformat_minor": 5
}
